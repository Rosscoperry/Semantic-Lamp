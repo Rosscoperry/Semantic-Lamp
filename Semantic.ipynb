{
 "cells": [
  {
   "cell_type": "code",
   "execution_count": 39,
   "metadata": {},
   "outputs": [],
   "source": [
    "# DataFrame\n",
    "import pandas as pd\n",
    "\n",
    "# Matplot\n",
    "import matplotlib.pyplot as plt\n",
    "%matplotlib inline\n",
    "\n",
    "# Scikit-learn\n",
    "from sklearn.model_selection import train_test_split\n",
    "from sklearn.preprocessing import LabelEncoder\n",
    "from sklearn.metrics import confusion_matrix, classification_report, accuracy_score\n",
    "from sklearn.manifold import TSNE\n",
    "from sklearn.feature_extraction.text import TfidfVectorizer\n",
    "\n",
    "# Keras\n",
    "import keras\n",
    "from keras.preprocessing.text import Tokenizer\n",
    "from keras.preprocessing.sequence import pad_sequences\n",
    "from keras.models import Sequential\n",
    "from keras.layers import Activation, Dense, Dropout, Embedding, Flatten, Conv1D, MaxPooling1D, LSTM\n",
    "from keras import utils\n",
    "from keras.callbacks import ReduceLROnPlateau, EarlyStopping\n",
    "\n",
    "# nltk\n",
    "import nltk\n",
    "from nltk.corpus import stopwords\n",
    "from  nltk.stem import SnowballStemmer\n",
    "\n",
    "# Word2vec\n",
    "import gensim\n",
    "\n",
    "# Utility\n",
    "import re\n",
    "import numpy as np\n",
    "import os\n",
    "from collections import Counter\n",
    "import logging\n",
    "import time\n",
    "import pickle\n",
    "import itertools\n",
    "\n",
    "# Set log\n",
    "logging.basicConfig(format='%(asctime)s : %(levelname)s : %(message)s', level=logging.INFO)"
   ]
  },
  {
   "cell_type": "code",
   "execution_count": 2,
   "metadata": {},
   "outputs": [
    {
     "name": "stderr",
     "output_type": "stream",
     "text": [
      "[nltk_data] Downloading package stopwords to\n",
      "[nltk_data]     C:\\Users\\Rossco\\AppData\\Roaming\\nltk_data...\n",
      "[nltk_data]   Package stopwords is already up-to-date!\n"
     ]
    },
    {
     "data": {
      "text/plain": [
       "True"
      ]
     },
     "execution_count": 2,
     "metadata": {},
     "output_type": "execute_result"
    }
   ],
   "source": [
    "nltk.download('stopwords')"
   ]
  },
  {
   "cell_type": "code",
   "execution_count": 54,
   "metadata": {},
   "outputs": [],
   "source": [
    "# DATASET\n",
    "DATASET_COLUMNS = [\"target\", \"ids\", \"date\", \"flag\", \"user\", \"text\"]\n",
    "DATASET_ENCODING = \"ISO-8859-1\"\n",
    "TRAIN_SIZE = 0.8\n",
    "\n",
    "# TEXT CLENAING\n",
    "TEXT_CLEANING_RE = \"@\\S+|https?:\\S+|http?:\\S|[^A-Za-z0-9]+\"\n",
    "\n",
    "# WORD2VEC \n",
    "W2V_SIZE = 300\n",
    "W2V_WINDOW = 7\n",
    "W2V_EPOCH = 32\n",
    "W2V_MIN_COUNT = 10\n",
    "\n",
    "# KERAS\n",
    "SEQUENCE_LENGTH = 300\n",
    "EPOCHS = 8\n",
    "BATCH_SIZE = 512\n",
    "\n",
    "# SENTIMENT\n",
    "POSITIVE = \"POSITIVE\"\n",
    "NEGATIVE = \"NEGATIVE\"\n",
    "NEUTRAL = \"NEUTRAL\"\n",
    "SENTIMENT_THRESHOLDS = (0.4, 0.7)\n",
    "\n",
    "# EXPORT\n",
    "KERAS_MODEL = \"model.h5\"\n",
    "WORD2VEC_MODEL = \"model.w2v\"\n",
    "TOKENIZER_MODEL = \"tokenizer.pkl\"\n",
    "ENCODER_MODEL = \"encoder.pkl\""
   ]
  },
  {
   "cell_type": "code",
   "execution_count": 4,
   "metadata": {},
   "outputs": [],
   "source": [
    "#dataset_filename = os.listdir(\"../input\")[0]\n",
    "#dataset_path = os.path.join(\"..\",\"input\",dataset_filename)\n",
    "#print(\"Open file:\", dataset_path)\n",
    "df = pd.read_csv((r'D:\\Python projects\\LampProject\\training.1600000.processed.noemoticon.csv'), encoding =DATASET_ENCODING , names=DATASET_COLUMNS)\n"
   ]
  },
  {
   "cell_type": "code",
   "execution_count": 5,
   "metadata": {},
   "outputs": [
    {
     "name": "stdout",
     "output_type": "stream",
     "text": [
      "Dataset size: 1600000\n"
     ]
    }
   ],
   "source": [
    "print(\"Dataset size:\", len(df))"
   ]
  },
  {
   "cell_type": "code",
   "execution_count": 6,
   "metadata": {},
   "outputs": [
    {
     "data": {
      "text/html": [
       "<div>\n",
       "<style scoped>\n",
       "    .dataframe tbody tr th:only-of-type {\n",
       "        vertical-align: middle;\n",
       "    }\n",
       "\n",
       "    .dataframe tbody tr th {\n",
       "        vertical-align: top;\n",
       "    }\n",
       "\n",
       "    .dataframe thead th {\n",
       "        text-align: right;\n",
       "    }\n",
       "</style>\n",
       "<table border=\"1\" class=\"dataframe\">\n",
       "  <thead>\n",
       "    <tr style=\"text-align: right;\">\n",
       "      <th></th>\n",
       "      <th>target</th>\n",
       "      <th>ids</th>\n",
       "      <th>date</th>\n",
       "      <th>flag</th>\n",
       "      <th>user</th>\n",
       "      <th>text</th>\n",
       "    </tr>\n",
       "  </thead>\n",
       "  <tbody>\n",
       "    <tr>\n",
       "      <th>0</th>\n",
       "      <td>0</td>\n",
       "      <td>1467810369</td>\n",
       "      <td>Mon Apr 06 22:19:45 PDT 2009</td>\n",
       "      <td>NO_QUERY</td>\n",
       "      <td>_TheSpecialOne_</td>\n",
       "      <td>@switchfoot http://twitpic.com/2y1zl - Awww, t...</td>\n",
       "    </tr>\n",
       "    <tr>\n",
       "      <th>1</th>\n",
       "      <td>0</td>\n",
       "      <td>1467810672</td>\n",
       "      <td>Mon Apr 06 22:19:49 PDT 2009</td>\n",
       "      <td>NO_QUERY</td>\n",
       "      <td>scotthamilton</td>\n",
       "      <td>is upset that he can't update his Facebook by ...</td>\n",
       "    </tr>\n",
       "    <tr>\n",
       "      <th>2</th>\n",
       "      <td>0</td>\n",
       "      <td>1467810917</td>\n",
       "      <td>Mon Apr 06 22:19:53 PDT 2009</td>\n",
       "      <td>NO_QUERY</td>\n",
       "      <td>mattycus</td>\n",
       "      <td>@Kenichan I dived many times for the ball. Man...</td>\n",
       "    </tr>\n",
       "    <tr>\n",
       "      <th>3</th>\n",
       "      <td>0</td>\n",
       "      <td>1467811184</td>\n",
       "      <td>Mon Apr 06 22:19:57 PDT 2009</td>\n",
       "      <td>NO_QUERY</td>\n",
       "      <td>ElleCTF</td>\n",
       "      <td>my whole body feels itchy and like its on fire</td>\n",
       "    </tr>\n",
       "    <tr>\n",
       "      <th>4</th>\n",
       "      <td>0</td>\n",
       "      <td>1467811193</td>\n",
       "      <td>Mon Apr 06 22:19:57 PDT 2009</td>\n",
       "      <td>NO_QUERY</td>\n",
       "      <td>Karoli</td>\n",
       "      <td>@nationwideclass no, it's not behaving at all....</td>\n",
       "    </tr>\n",
       "  </tbody>\n",
       "</table>\n",
       "</div>"
      ],
      "text/plain": [
       "   target         ids                          date      flag  \\\n",
       "0       0  1467810369  Mon Apr 06 22:19:45 PDT 2009  NO_QUERY   \n",
       "1       0  1467810672  Mon Apr 06 22:19:49 PDT 2009  NO_QUERY   \n",
       "2       0  1467810917  Mon Apr 06 22:19:53 PDT 2009  NO_QUERY   \n",
       "3       0  1467811184  Mon Apr 06 22:19:57 PDT 2009  NO_QUERY   \n",
       "4       0  1467811193  Mon Apr 06 22:19:57 PDT 2009  NO_QUERY   \n",
       "\n",
       "              user                                               text  \n",
       "0  _TheSpecialOne_  @switchfoot http://twitpic.com/2y1zl - Awww, t...  \n",
       "1    scotthamilton  is upset that he can't update his Facebook by ...  \n",
       "2         mattycus  @Kenichan I dived many times for the ball. Man...  \n",
       "3          ElleCTF    my whole body feels itchy and like its on fire   \n",
       "4           Karoli  @nationwideclass no, it's not behaving at all....  "
      ]
     },
     "execution_count": 6,
     "metadata": {},
     "output_type": "execute_result"
    }
   ],
   "source": [
    "df.head(5)"
   ]
  },
  {
   "cell_type": "code",
   "execution_count": 7,
   "metadata": {},
   "outputs": [],
   "source": [
    "decode_map = {0: \"NEGATIVE\", 2: \"NEUTRAL\", 4: \"POSITIVE\"}\n",
    "def decode_sentiment(label):\n",
    "    return decode_map[int(label)]"
   ]
  },
  {
   "cell_type": "code",
   "execution_count": 8,
   "metadata": {},
   "outputs": [
    {
     "name": "stdout",
     "output_type": "stream",
     "text": [
      "CPU times: total: 375 ms\n",
      "Wall time: 387 ms\n"
     ]
    }
   ],
   "source": [
    "%%time\n",
    "df.target = df.target.apply(lambda x: decode_sentiment(x))"
   ]
  },
  {
   "cell_type": "code",
   "execution_count": 9,
   "metadata": {},
   "outputs": [
    {
     "data": {
      "text/plain": [
       "Text(0.5, 1.0, 'Dataset labels distribuition')"
      ]
     },
     "execution_count": 9,
     "metadata": {},
     "output_type": "execute_result"
    },
    {
     "data": {
      "image/png": "[encoded data removed]",
      "text/plain": [
       "<Figure size 1152x576 with 1 Axes>"
      ]
     },
     "metadata": {
      "needs_background": "light"
     },
     "output_type": "display_data"
    }
   ],
   "source": [
    "target_cnt = Counter(df.target)\n",
    "\n",
    "plt.figure(figsize=(16,8))\n",
    "plt.bar(target_cnt.keys(), target_cnt.values())\n",
    "plt.title(\"Dataset labels distribuition\")"
   ]
  },
  {
   "cell_type": "code",
   "execution_count": 10,
   "metadata": {},
   "outputs": [],
   "source": [
    "stop_words = stopwords.words(\"english\")\n",
    "stemmer = SnowballStemmer(\"english\")"
   ]
  },
  {
   "cell_type": "code",
   "execution_count": 11,
   "metadata": {},
   "outputs": [],
   "source": [
    "def preprocess(text, stem=False):\n",
    "    # Remove link,user and special characters\n",
    "    text = re.sub(TEXT_CLEANING_RE, ' ', str(text).lower()).strip()\n",
    "    tokens = []\n",
    "    for token in text.split():\n",
    "        if token not in stop_words:\n",
    "            if stem:\n",
    "                tokens.append(stemmer.stem(token))\n",
    "            else:\n",
    "                tokens.append(token)\n",
    "    return \" \".join(tokens)"
   ]
  },
  {
   "cell_type": "code",
   "execution_count": 12,
   "metadata": {},
   "outputs": [
    {
     "name": "stdout",
     "output_type": "stream",
     "text": [
      "CPU times: total: 47.9 s\n",
      "Wall time: 53.6 s\n"
     ]
    }
   ],
   "source": [
    "%%time\n",
    "df.text = df.text.apply(lambda x: preprocess(x))"
   ]
  },
  {
   "cell_type": "code",
   "execution_count": 13,
   "metadata": {},
   "outputs": [
    {
     "name": "stdout",
     "output_type": "stream",
     "text": [
      "TRAIN size: 1280000\n",
      "TEST size: 320000\n"
     ]
    }
   ],
   "source": [
    "df_train, df_test = train_test_split(df, test_size=1-TRAIN_SIZE, random_state=42)\n",
    "print(\"TRAIN size:\", len(df_train))\n",
    "print(\"TEST size:\", len(df_test))"
   ]
  },
  {
   "cell_type": "code",
   "execution_count": 14,
   "metadata": {},
   "outputs": [
    {
     "name": "stdout",
     "output_type": "stream",
     "text": [
      "CPU times: total: 2.84 s\n",
      "Wall time: 3.12 s\n"
     ]
    }
   ],
   "source": [
    "%%time\n",
    "documents = [_text.split() for _text in df_train.text] "
   ]
  },
  {
   "cell_type": "code",
   "execution_count": 15,
   "metadata": {},
   "outputs": [
    {
     "name": "stderr",
     "output_type": "stream",
     "text": [
      "2022-04-06 22:13:31,681 : INFO : Word2Vec lifecycle event {'params': 'Word2Vec(vocab=0, vector_size=300, alpha=0.025)', 'datetime': '2022-04-06T22:13:31.681239', 'gensim': '4.1.2', 'python': '3.10.4 (tags/v3.10.4:9d38120, Mar 23 2022, 23:13:41) [MSC v.1929 64 bit (AMD64)]', 'platform': 'Windows-10-10.0.19043-SP0', 'event': 'created'}\n"
     ]
    }
   ],
   "source": [
    "w2v_model = gensim.models.word2vec.Word2Vec(vector_size=W2V_SIZE, \n",
    "                                            window=W2V_WINDOW, \n",
    "                                            min_count=W2V_MIN_COUNT, \n",
    "                                            workers=8)"
   ]
  },
  {
   "cell_type": "code",
   "execution_count": 16,
   "metadata": {},
   "outputs": [
    {
     "name": "stderr",
     "output_type": "stream",
     "text": [
      "2022-04-06 22:13:31,730 : INFO : collecting all words and their counts\n",
      "2022-04-06 22:13:31,730 : INFO : PROGRESS: at sentence #0, processed 0 words, keeping 0 word types\n",
      "2022-04-06 22:13:31,746 : INFO : PROGRESS: at sentence #10000, processed 72565 words, keeping 14005 word types\n",
      "2022-04-06 22:13:31,765 : INFO : PROGRESS: at sentence #20000, processed 144393 words, keeping 21587 word types\n",
      "2022-04-06 22:13:31,785 : INFO : PROGRESS: at sentence #30000, processed 215826 words, keeping 27541 word types\n",
      "2022-04-06 22:13:31,804 : INFO : PROGRESS: at sentence #40000, processed 288271 words, keeping 32764 word types\n",
      "2022-04-06 22:13:31,824 : INFO : PROGRESS: at sentence #50000, processed 359772 words, keeping 37587 word types\n",
      "2022-04-06 22:13:31,843 : INFO : PROGRESS: at sentence #60000, processed 431431 words, keeping 42198 word types\n",
      "2022-04-06 22:13:31,863 : INFO : PROGRESS: at sentence #70000, processed 503103 words, keeping 46458 word types\n",
      "2022-04-06 22:13:31,882 : INFO : PROGRESS: at sentence #80000, processed 575709 words, keeping 50476 word types\n",
      "2022-04-06 22:13:31,901 : INFO : PROGRESS: at sentence #90000, processed 647100 words, keeping 54140 word types\n",
      "2022-04-06 22:13:31,920 : INFO : PROGRESS: at sentence #100000, processed 718681 words, keeping 57777 word types\n",
      "2022-04-06 22:13:31,939 : INFO : PROGRESS: at sentence #110000, processed 790696 words, keeping 61207 word types\n",
      "2022-04-06 22:13:31,961 : INFO : PROGRESS: at sentence #120000, processed 863134 words, keeping 64583 word types\n",
      "2022-04-06 22:13:31,982 : INFO : PROGRESS: at sentence #130000, processed 935111 words, keeping 67865 word types\n",
      "2022-04-06 22:13:32,003 : INFO : PROGRESS: at sentence #140000, processed 1006668 words, keeping 70966 word types\n",
      "2022-04-06 22:13:32,022 : INFO : PROGRESS: at sentence #150000, processed 1078512 words, keeping 74119 word types\n",
      "2022-04-06 22:13:32,042 : INFO : PROGRESS: at sentence #160000, processed 1149914 words, keeping 77187 word types\n",
      "2022-04-06 22:13:32,062 : INFO : PROGRESS: at sentence #170000, processed 1222145 words, keeping 80267 word types\n",
      "2022-04-06 22:13:32,082 : INFO : PROGRESS: at sentence #180000, processed 1294708 words, keeping 83393 word types\n",
      "2022-04-06 22:13:32,104 : INFO : PROGRESS: at sentence #190000, processed 1367608 words, keeping 86329 word types\n",
      "2022-04-06 22:13:32,125 : INFO : PROGRESS: at sentence #200000, processed 1439469 words, keeping 89103 word types\n",
      "2022-04-06 22:13:32,146 : INFO : PROGRESS: at sentence #210000, processed 1512099 words, keeping 91840 word types\n",
      "2022-04-06 22:13:32,166 : INFO : PROGRESS: at sentence #220000, processed 1584149 words, keeping 94636 word types\n",
      "2022-04-06 22:13:32,185 : INFO : PROGRESS: at sentence #230000, processed 1656354 words, keeping 97353 word types\n",
      "2022-04-06 22:13:32,206 : INFO : PROGRESS: at sentence #240000, processed 1728573 words, keeping 99975 word types\n",
      "2022-04-06 22:13:32,228 : INFO : PROGRESS: at sentence #250000, processed 1801102 words, keeping 102594 word types\n",
      "2022-04-06 22:13:32,248 : INFO : PROGRESS: at sentence #260000, processed 1873103 words, keeping 105162 word types\n",
      "2022-04-06 22:13:32,268 : INFO : PROGRESS: at sentence #270000, processed 1945245 words, keeping 107626 word types\n",
      "2022-04-06 22:13:32,287 : INFO : PROGRESS: at sentence #280000, processed 2017163 words, keeping 110141 word types\n",
      "2022-04-06 22:13:32,307 : INFO : PROGRESS: at sentence #290000, processed 2089574 words, keeping 112539 word types\n",
      "2022-04-06 22:13:32,327 : INFO : PROGRESS: at sentence #300000, processed 2160996 words, keeping 114893 word types\n",
      "2022-04-06 22:13:32,351 : INFO : PROGRESS: at sentence #310000, processed 2232913 words, keeping 117298 word types\n",
      "2022-04-06 22:13:32,370 : INFO : PROGRESS: at sentence #320000, processed 2305039 words, keeping 119693 word types\n",
      "2022-04-06 22:13:32,390 : INFO : PROGRESS: at sentence #330000, processed 2377119 words, keeping 122131 word types\n",
      "2022-04-06 22:13:32,410 : INFO : PROGRESS: at sentence #340000, processed 2449370 words, keeping 124416 word types\n",
      "2022-04-06 22:13:32,431 : INFO : PROGRESS: at sentence #350000, processed 2521564 words, keeping 126669 word types\n",
      "2022-04-06 22:13:32,450 : INFO : PROGRESS: at sentence #360000, processed 2593681 words, keeping 128912 word types\n",
      "2022-04-06 22:13:32,471 : INFO : PROGRESS: at sentence #370000, processed 2665692 words, keeping 131135 word types\n",
      "2022-04-06 22:13:32,493 : INFO : PROGRESS: at sentence #380000, processed 2737859 words, keeping 133403 word types\n",
      "2022-04-06 22:13:32,516 : INFO : PROGRESS: at sentence #390000, processed 2809848 words, keeping 135551 word types\n",
      "2022-04-06 22:13:32,534 : INFO : PROGRESS: at sentence #400000, processed 2882438 words, keeping 137742 word types\n",
      "2022-04-06 22:13:32,555 : INFO : PROGRESS: at sentence #410000, processed 2954075 words, keeping 139909 word types\n",
      "2022-04-06 22:13:32,578 : INFO : PROGRESS: at sentence #420000, processed 3026247 words, keeping 142144 word types\n",
      "2022-04-06 22:13:32,599 : INFO : PROGRESS: at sentence #430000, processed 3098659 words, keeping 144364 word types\n",
      "2022-04-06 22:13:32,618 : INFO : PROGRESS: at sentence #440000, processed 3170663 words, keeping 146439 word types\n",
      "2022-04-06 22:13:32,638 : INFO : PROGRESS: at sentence #450000, processed 3243344 words, keeping 148526 word types\n",
      "2022-04-06 22:13:32,657 : INFO : PROGRESS: at sentence #460000, processed 3315466 words, keeping 150610 word types\n",
      "2022-04-06 22:13:32,679 : INFO : PROGRESS: at sentence #470000, processed 3388295 words, keeping 152737 word types\n",
      "2022-04-06 22:13:32,699 : INFO : PROGRESS: at sentence #480000, processed 3460120 words, keeping 154757 word types\n",
      "2022-04-06 22:13:32,718 : INFO : PROGRESS: at sentence #490000, processed 3531883 words, keeping 156825 word types\n",
      "2022-04-06 22:13:32,737 : INFO : PROGRESS: at sentence #500000, processed 3604217 words, keeping 158859 word types\n",
      "2022-04-06 22:13:32,758 : INFO : PROGRESS: at sentence #510000, processed 3676427 words, keeping 160852 word types\n",
      "2022-04-06 22:13:32,778 : INFO : PROGRESS: at sentence #520000, processed 3749045 words, keeping 162863 word types\n",
      "2022-04-06 22:13:32,801 : INFO : PROGRESS: at sentence #530000, processed 3821622 words, keeping 164929 word types\n",
      "2022-04-06 22:13:32,821 : INFO : PROGRESS: at sentence #540000, processed 3893627 words, keeping 166840 word types\n",
      "2022-04-06 22:13:32,841 : INFO : PROGRESS: at sentence #550000, processed 3965477 words, keeping 168799 word types\n",
      "2022-04-06 22:13:32,863 : INFO : PROGRESS: at sentence #560000, processed 4038050 words, keeping 170802 word types\n",
      "2022-04-06 22:13:32,884 : INFO : PROGRESS: at sentence #570000, processed 4110296 words, keeping 172760 word types\n",
      "2022-04-06 22:13:32,903 : INFO : PROGRESS: at sentence #580000, processed 4182385 words, keeping 174635 word types\n",
      "2022-04-06 22:13:32,926 : INFO : PROGRESS: at sentence #590000, processed 4254632 words, keeping 176470 word types\n",
      "2022-04-06 22:13:32,950 : INFO : PROGRESS: at sentence #600000, processed 4326859 words, keeping 178350 word types\n",
      "2022-04-06 22:13:32,971 : INFO : PROGRESS: at sentence #610000, processed 4399183 words, keeping 180290 word types\n",
      "2022-04-06 22:13:32,992 : INFO : PROGRESS: at sentence #620000, processed 4471343 words, keeping 182129 word types\n",
      "2022-04-06 22:13:33,015 : INFO : PROGRESS: at sentence #630000, processed 4543286 words, keeping 184005 word types\n",
      "2022-04-06 22:13:33,035 : INFO : PROGRESS: at sentence #640000, processed 4615780 words, keeping 185835 word types\n",
      "2022-04-06 22:13:33,055 : INFO : PROGRESS: at sentence #650000, processed 4688481 words, keeping 187705 word types\n",
      "2022-04-06 22:13:33,075 : INFO : PROGRESS: at sentence #660000, processed 4760481 words, keeping 189439 word types\n",
      "2022-04-06 22:13:33,096 : INFO : PROGRESS: at sentence #670000, processed 4833024 words, keeping 191232 word types\n",
      "2022-04-06 22:13:33,117 : INFO : PROGRESS: at sentence #680000, processed 4904516 words, keeping 193177 word types\n",
      "2022-04-06 22:13:33,138 : INFO : PROGRESS: at sentence #690000, processed 4976968 words, keeping 194960 word types\n",
      "2022-04-06 22:13:33,164 : INFO : PROGRESS: at sentence #700000, processed 5049412 words, keeping 196725 word types\n",
      "2022-04-06 22:13:33,186 : INFO : PROGRESS: at sentence #710000, processed 5121976 words, keeping 198516 word types\n",
      "2022-04-06 22:13:33,208 : INFO : PROGRESS: at sentence #720000, processed 5193881 words, keeping 200325 word types\n",
      "2022-04-06 22:13:33,233 : INFO : PROGRESS: at sentence #730000, processed 5265467 words, keeping 202133 word types\n",
      "2022-04-06 22:13:33,254 : INFO : PROGRESS: at sentence #740000, processed 5337518 words, keeping 203818 word types\n",
      "2022-04-06 22:13:33,274 : INFO : PROGRESS: at sentence #750000, processed 5409321 words, keeping 205535 word types\n",
      "2022-04-06 22:13:33,297 : INFO : PROGRESS: at sentence #760000, processed 5481512 words, keeping 207282 word types\n",
      "2022-04-06 22:13:33,318 : INFO : PROGRESS: at sentence #770000, processed 5554093 words, keeping 209076 word types\n",
      "2022-04-06 22:13:33,340 : INFO : PROGRESS: at sentence #780000, processed 5625382 words, keeping 210805 word types\n",
      "2022-04-06 22:13:33,365 : INFO : PROGRESS: at sentence #790000, processed 5698066 words, keeping 212618 word types\n",
      "2022-04-06 22:13:33,389 : INFO : PROGRESS: at sentence #800000, processed 5770880 words, keeping 214374 word types\n",
      "2022-04-06 22:13:33,412 : INFO : PROGRESS: at sentence #810000, processed 5843418 words, keeping 216009 word types\n",
      "2022-04-06 22:13:33,435 : INFO : PROGRESS: at sentence #820000, processed 5915628 words, keeping 217804 word types\n",
      "2022-04-06 22:13:33,455 : INFO : PROGRESS: at sentence #830000, processed 5987499 words, keeping 219585 word types\n",
      "2022-04-06 22:13:33,475 : INFO : PROGRESS: at sentence #840000, processed 6058973 words, keeping 221344 word types\n",
      "2022-04-06 22:13:33,497 : INFO : PROGRESS: at sentence #850000, processed 6131125 words, keeping 223002 word types\n",
      "2022-04-06 22:13:33,519 : INFO : PROGRESS: at sentence #860000, processed 6202951 words, keeping 224643 word types\n",
      "2022-04-06 22:13:33,539 : INFO : PROGRESS: at sentence #870000, processed 6275461 words, keeping 226362 word types\n",
      "2022-04-06 22:13:33,563 : INFO : PROGRESS: at sentence #880000, processed 6347661 words, keeping 227986 word types\n",
      "2022-04-06 22:13:33,583 : INFO : PROGRESS: at sentence #890000, processed 6419806 words, keeping 229634 word types\n",
      "2022-04-06 22:13:33,603 : INFO : PROGRESS: at sentence #900000, processed 6491644 words, keeping 231389 word types\n",
      "2022-04-06 22:13:33,622 : INFO : PROGRESS: at sentence #910000, processed 6564022 words, keeping 233050 word types\n",
      "2022-04-06 22:13:33,641 : INFO : PROGRESS: at sentence #920000, processed 6636228 words, keeping 234686 word types\n",
      "2022-04-06 22:13:33,665 : INFO : PROGRESS: at sentence #930000, processed 6708573 words, keeping 236393 word types\n",
      "2022-04-06 22:13:33,684 : INFO : PROGRESS: at sentence #940000, processed 6779956 words, keeping 238052 word types\n",
      "2022-04-06 22:13:33,707 : INFO : PROGRESS: at sentence #950000, processed 6852599 words, keeping 239716 word types\n",
      "2022-04-06 22:13:33,727 : INFO : PROGRESS: at sentence #960000, processed 6924717 words, keeping 241354 word types\n",
      "2022-04-06 22:13:33,750 : INFO : PROGRESS: at sentence #970000, processed 6996992 words, keeping 242980 word types\n",
      "2022-04-06 22:13:33,771 : INFO : PROGRESS: at sentence #980000, processed 7068402 words, keeping 244646 word types\n",
      "2022-04-06 22:13:33,789 : INFO : PROGRESS: at sentence #990000, processed 7140346 words, keeping 246186 word types\n",
      "2022-04-06 22:13:33,811 : INFO : PROGRESS: at sentence #1000000, processed 7211757 words, keeping 247726 word types\n",
      "2022-04-06 22:13:33,832 : INFO : PROGRESS: at sentence #1010000, processed 7283267 words, keeping 249288 word types\n",
      "2022-04-06 22:13:33,854 : INFO : PROGRESS: at sentence #1020000, processed 7355299 words, keeping 250860 word types\n",
      "2022-04-06 22:13:33,888 : INFO : PROGRESS: at sentence #1030000, processed 7426918 words, keeping 252366 word types\n",
      "2022-04-06 22:13:33,921 : INFO : PROGRESS: at sentence #1040000, processed 7498815 words, keeping 253930 word types\n",
      "2022-04-06 22:13:33,955 : INFO : PROGRESS: at sentence #1050000, processed 7570499 words, keeping 255471 word types\n",
      "2022-04-06 22:13:33,979 : INFO : PROGRESS: at sentence #1060000, processed 7643251 words, keeping 257035 word types\n",
      "2022-04-06 22:13:34,002 : INFO : PROGRESS: at sentence #1070000, processed 7714721 words, keeping 258509 word types\n",
      "2022-04-06 22:13:34,021 : INFO : PROGRESS: at sentence #1080000, processed 7787371 words, keeping 260071 word types\n",
      "2022-04-06 22:13:34,041 : INFO : PROGRESS: at sentence #1090000, processed 7859336 words, keeping 261683 word types\n",
      "2022-04-06 22:13:34,067 : INFO : PROGRESS: at sentence #1100000, processed 7932029 words, keeping 263278 word types\n",
      "2022-04-06 22:13:34,087 : INFO : PROGRESS: at sentence #1110000, processed 8004146 words, keeping 264800 word types\n",
      "2022-04-06 22:13:34,109 : INFO : PROGRESS: at sentence #1120000, processed 8075880 words, keeping 266309 word types\n",
      "2022-04-06 22:13:34,132 : INFO : PROGRESS: at sentence #1130000, processed 8148163 words, keeping 267826 word types\n",
      "2022-04-06 22:13:34,152 : INFO : PROGRESS: at sentence #1140000, processed 8220487 words, keeping 269391 word types\n",
      "2022-04-06 22:13:34,171 : INFO : PROGRESS: at sentence #1150000, processed 8292498 words, keeping 270894 word types\n",
      "2022-04-06 22:13:34,192 : INFO : PROGRESS: at sentence #1160000, processed 8363838 words, keeping 272400 word types\n",
      "2022-04-06 22:13:34,213 : INFO : PROGRESS: at sentence #1170000, processed 8435510 words, keeping 273970 word types\n",
      "2022-04-06 22:13:34,233 : INFO : PROGRESS: at sentence #1180000, processed 8507795 words, keeping 275521 word types\n",
      "2022-04-06 22:13:34,253 : INFO : PROGRESS: at sentence #1190000, processed 8579080 words, keeping 277007 word types\n",
      "2022-04-06 22:13:34,274 : INFO : PROGRESS: at sentence #1200000, processed 8650606 words, keeping 278457 word types\n",
      "2022-04-06 22:13:34,297 : INFO : PROGRESS: at sentence #1210000, processed 8721893 words, keeping 279959 word types\n",
      "2022-04-06 22:13:34,317 : INFO : PROGRESS: at sentence #1220000, processed 8793795 words, keeping 281427 word types\n",
      "2022-04-06 22:13:34,336 : INFO : PROGRESS: at sentence #1230000, processed 8865726 words, keeping 282981 word types\n",
      "2022-04-06 22:13:34,356 : INFO : PROGRESS: at sentence #1240000, processed 8938173 words, keeping 284542 word types\n",
      "2022-04-06 22:13:34,377 : INFO : PROGRESS: at sentence #1250000, processed 9010842 words, keeping 286064 word types\n",
      "2022-04-06 22:13:34,399 : INFO : PROGRESS: at sentence #1260000, processed 9083261 words, keeping 287521 word types\n",
      "2022-04-06 22:13:34,418 : INFO : PROGRESS: at sentence #1270000, processed 9155616 words, keeping 288987 word types\n",
      "2022-04-06 22:13:34,438 : INFO : collected 290418 word types from a corpus of 9227204 raw words and 1280000 sentences\n",
      "2022-04-06 22:13:34,439 : INFO : Creating a fresh vocabulary\n",
      "2022-04-06 22:13:34,619 : INFO : Word2Vec lifecycle event {'msg': 'effective_min_count=10 retains 30369 unique words (10.456996467161126%% of original 290418, drops 260049)', 'datetime': '2022-04-06T22:13:34.619932', 'gensim': '4.1.2', 'python': '3.10.4 (tags/v3.10.4:9d38120, Mar 23 2022, 23:13:41) [MSC v.1929 64 bit (AMD64)]', 'platform': 'Windows-10-10.0.19043-SP0', 'event': 'prepare_vocab'}\n",
      "2022-04-06 22:13:34,619 : INFO : Word2Vec lifecycle event {'msg': 'effective_min_count=10 leaves 8780739 word corpus (95.16142701516083%% of original 9227204, drops 446465)', 'datetime': '2022-04-06T22:13:34.619932', 'gensim': '4.1.2', 'python': '3.10.4 (tags/v3.10.4:9d38120, Mar 23 2022, 23:13:41) [MSC v.1929 64 bit (AMD64)]', 'platform': 'Windows-10-10.0.19043-SP0', 'event': 'prepare_vocab'}\n",
      "2022-04-06 22:13:34,790 : INFO : deleting the raw counts dictionary of 290418 items\n",
      "2022-04-06 22:13:34,798 : INFO : sample=0.001 downsamples 45 most-common words\n",
      "2022-04-06 22:13:34,799 : INFO : Word2Vec lifecycle event {'msg': 'downsampling leaves estimated 8222658.616429881 word corpus (93.6%% of prior 8780739)', 'datetime': '2022-04-06T22:13:34.799964', 'gensim': '4.1.2', 'python': '3.10.4 (tags/v3.10.4:9d38120, Mar 23 2022, 23:13:41) [MSC v.1929 64 bit (AMD64)]', 'platform': 'Windows-10-10.0.19043-SP0', 'event': 'prepare_vocab'}\n",
      "2022-04-06 22:13:35,126 : INFO : estimated required memory for 30369 words and 300 dimensions: 88070100 bytes\n",
      "2022-04-06 22:13:35,126 : INFO : resetting layer weights\n",
      "2022-04-06 22:13:35,170 : INFO : Word2Vec lifecycle event {'update': False, 'trim_rule': 'None', 'datetime': '2022-04-06T22:13:35.170012', 'gensim': '4.1.2', 'python': '3.10.4 (tags/v3.10.4:9d38120, Mar 23 2022, 23:13:41) [MSC v.1929 64 bit (AMD64)]', 'platform': 'Windows-10-10.0.19043-SP0', 'event': 'build_vocab'}\n"
     ]
    }
   ],
   "source": [
    "w2v_model.build_vocab(documents)"
   ]
  },
  {
   "cell_type": "code",
   "execution_count": 40,
   "metadata": {},
   "outputs": [
    {
     "ename": "AttributeError",
     "evalue": "The vocab attribute was removed from KeyedVector in Gensim 4.0.0.\nUse KeyedVector's .key_to_index dict, .index_to_key list, and methods .get_vecattr(key, attr) and .set_vecattr(key, attr, new_val) instead.\nSee https://github.com/RaRe-Technologies/gensim/wiki/Migrating-from-Gensim-3.x-to-4",
     "output_type": "error",
     "traceback": [
      "\u001b[1;31m---------------------------------------------------------------------------\u001b[0m",
      "\u001b[1;31mAttributeError\u001b[0m                            Traceback (most recent call last)",
      "\u001b[1;32md:\\Python projects\\LampProject\\Semantic.ipynb Cell 17'\u001b[0m in \u001b[0;36m<cell line: 1>\u001b[1;34m()\u001b[0m\n\u001b[1;32m----> <a href='vscode-notebook-cell:/d%3A/Python%20projects/LampProject/Semantic.ipynb#ch0000017?line=0'>1</a>\u001b[0m words \u001b[39m=\u001b[39m w2v_model\u001b[39m.\u001b[39;49mwv\u001b[39m.\u001b[39;49mvocab\u001b[39m.\u001b[39mkeys()\n\u001b[0;32m      <a href='vscode-notebook-cell:/d%3A/Python%20projects/LampProject/Semantic.ipynb#ch0000017?line=1'>2</a>\u001b[0m vocab_size \u001b[39m=\u001b[39m \u001b[39mlen\u001b[39m(words)\n\u001b[0;32m      <a href='vscode-notebook-cell:/d%3A/Python%20projects/LampProject/Semantic.ipynb#ch0000017?line=2'>3</a>\u001b[0m \u001b[39mprint\u001b[39m(\u001b[39m\"\u001b[39m\u001b[39mVocab size\u001b[39m\u001b[39m\"\u001b[39m, vocab_size)\n",
      "File \u001b[1;32md:\\Python projects\\env_lamp\\lib\\site-packages\\gensim\\models\\keyedvectors.py:661\u001b[0m, in \u001b[0;36mKeyedVectors.vocab\u001b[1;34m(self)\u001b[0m\n\u001b[0;32m    <a href='file:///d%3A/Python%20projects/env_lamp/lib/site-packages/gensim/models/keyedvectors.py?line=658'>659</a>\u001b[0m \u001b[39m@property\u001b[39m\n\u001b[0;32m    <a href='file:///d%3A/Python%20projects/env_lamp/lib/site-packages/gensim/models/keyedvectors.py?line=659'>660</a>\u001b[0m \u001b[39mdef\u001b[39;00m \u001b[39mvocab\u001b[39m(\u001b[39mself\u001b[39m):\n\u001b[1;32m--> <a href='file:///d%3A/Python%20projects/env_lamp/lib/site-packages/gensim/models/keyedvectors.py?line=660'>661</a>\u001b[0m     \u001b[39mraise\u001b[39;00m \u001b[39mAttributeError\u001b[39;00m(\n\u001b[0;32m    <a href='file:///d%3A/Python%20projects/env_lamp/lib/site-packages/gensim/models/keyedvectors.py?line=661'>662</a>\u001b[0m         \u001b[39m\"\u001b[39m\u001b[39mThe vocab attribute was removed from KeyedVector in Gensim 4.0.0.\u001b[39m\u001b[39m\\n\u001b[39;00m\u001b[39m\"\u001b[39m\n\u001b[0;32m    <a href='file:///d%3A/Python%20projects/env_lamp/lib/site-packages/gensim/models/keyedvectors.py?line=662'>663</a>\u001b[0m         \u001b[39m\"\u001b[39m\u001b[39mUse KeyedVector\u001b[39m\u001b[39m'\u001b[39m\u001b[39ms .key_to_index dict, .index_to_key list, and methods \u001b[39m\u001b[39m\"\u001b[39m\n\u001b[0;32m    <a href='file:///d%3A/Python%20projects/env_lamp/lib/site-packages/gensim/models/keyedvectors.py?line=663'>664</a>\u001b[0m         \u001b[39m\"\u001b[39m\u001b[39m.get_vecattr(key, attr) and .set_vecattr(key, attr, new_val) instead.\u001b[39m\u001b[39m\\n\u001b[39;00m\u001b[39m\"\u001b[39m\n\u001b[0;32m    <a href='file:///d%3A/Python%20projects/env_lamp/lib/site-packages/gensim/models/keyedvectors.py?line=664'>665</a>\u001b[0m         \u001b[39m\"\u001b[39m\u001b[39mSee https://github.com/RaRe-Technologies/gensim/wiki/Migrating-from-Gensim-3.x-to-4\u001b[39m\u001b[39m\"\u001b[39m\n\u001b[0;32m    <a href='file:///d%3A/Python%20projects/env_lamp/lib/site-packages/gensim/models/keyedvectors.py?line=665'>666</a>\u001b[0m     )\n",
      "\u001b[1;31mAttributeError\u001b[0m: The vocab attribute was removed from KeyedVector in Gensim 4.0.0.\nUse KeyedVector's .key_to_index dict, .index_to_key list, and methods .get_vecattr(key, attr) and .set_vecattr(key, attr, new_val) instead.\nSee https://github.com/RaRe-Technologies/gensim/wiki/Migrating-from-Gensim-3.x-to-4"
     ]
    }
   ],
   "source": [
    "words = w2v_model.wv.vocab.keys()\n",
    "vocab_size = len(words)\n",
    "print(\"Vocab size\", vocab_size)"
   ]
  },
  {
   "cell_type": "code",
   "execution_count": 18,
   "metadata": {},
   "outputs": [
    {
     "name": "stderr",
     "output_type": "stream",
     "text": [
      "2022-04-06 22:13:54,239 : INFO : Word2Vec lifecycle event {'msg': 'training model with 8 workers on 30369 vocabulary and 300 features, using sg=0 hs=0 sample=0.001 negative=5 window=7 shrink_windows=True', 'datetime': '2022-04-06T22:13:54.239752', 'gensim': '4.1.2', 'python': '3.10.4 (tags/v3.10.4:9d38120, Mar 23 2022, 23:13:41) [MSC v.1929 64 bit (AMD64)]', 'platform': 'Windows-10-10.0.19043-SP0', 'event': 'train'}\n",
      "2022-04-06 22:13:55,268 : INFO : EPOCH 1 - PROGRESS: at 9.66% examples, 786462 words/s, in_qsize 14, out_qsize 1\n",
      "2022-04-06 22:13:56,273 : INFO : EPOCH 1 - PROGRESS: at 19.51% examples, 796635 words/s, in_qsize 15, out_qsize 0\n",
      "2022-04-06 22:13:57,324 : INFO : EPOCH 1 - PROGRESS: at 29.05% examples, 779131 words/s, in_qsize 15, out_qsize 0\n",
      "2022-04-06 22:13:58,332 : INFO : EPOCH 1 - PROGRESS: at 38.78% examples, 783173 words/s, in_qsize 16, out_qsize 0\n",
      "2022-04-06 22:13:59,362 : INFO : EPOCH 1 - PROGRESS: at 47.97% examples, 773469 words/s, in_qsize 15, out_qsize 0\n",
      "2022-04-06 22:14:00,371 : INFO : EPOCH 1 - PROGRESS: at 58.47% examples, 787336 words/s, in_qsize 15, out_qsize 0\n",
      "2022-04-06 22:14:01,373 : INFO : EPOCH 1 - PROGRESS: at 67.02% examples, 775238 words/s, in_qsize 14, out_qsize 1\n",
      "2022-04-06 22:14:02,376 : INFO : EPOCH 1 - PROGRESS: at 76.55% examples, 776029 words/s, in_qsize 16, out_qsize 1\n",
      "2022-04-06 22:14:03,389 : INFO : EPOCH 1 - PROGRESS: at 87.18% examples, 785604 words/s, in_qsize 14, out_qsize 1\n",
      "2022-04-06 22:14:04,389 : INFO : EPOCH 1 - PROGRESS: at 98.14% examples, 796735 words/s, in_qsize 14, out_qsize 1\n",
      "2022-04-06 22:14:04,670 : INFO : worker thread finished; awaiting finish of 7 more threads\n",
      "2022-04-06 22:14:04,672 : INFO : worker thread finished; awaiting finish of 6 more threads\n",
      "2022-04-06 22:14:04,674 : INFO : worker thread finished; awaiting finish of 5 more threads\n",
      "2022-04-06 22:14:04,700 : INFO : worker thread finished; awaiting finish of 4 more threads\n",
      "2022-04-06 22:14:04,702 : INFO : worker thread finished; awaiting finish of 3 more threads\n",
      "2022-04-06 22:14:04,708 : INFO : worker thread finished; awaiting finish of 2 more threads\n",
      "2022-04-06 22:14:04,751 : INFO : worker thread finished; awaiting finish of 1 more threads\n",
      "2022-04-06 22:14:04,808 : INFO : worker thread finished; awaiting finish of 0 more threads\n",
      "2022-04-06 22:14:04,810 : INFO : EPOCH - 1 : training on 9227204 raw words (8222362 effective words) took 10.5s, 779382 effective words/s\n",
      "2022-04-06 22:14:05,917 : INFO : EPOCH 2 - PROGRESS: at 9.34% examples, 737309 words/s, in_qsize 15, out_qsize 0\n",
      "2022-04-06 22:14:06,942 : INFO : EPOCH 2 - PROGRESS: at 18.65% examples, 742160 words/s, in_qsize 14, out_qsize 1\n",
      "2022-04-06 22:14:07,953 : INFO : EPOCH 2 - PROGRESS: at 29.70% examples, 793572 words/s, in_qsize 15, out_qsize 0\n",
      "2022-04-06 22:14:08,970 : INFO : EPOCH 2 - PROGRESS: at 39.32% examples, 790119 words/s, in_qsize 15, out_qsize 0\n",
      "2022-04-06 22:14:09,978 : INFO : EPOCH 2 - PROGRESS: at 47.54% examples, 766764 words/s, in_qsize 15, out_qsize 0\n",
      "2022-04-06 22:14:10,982 : INFO : EPOCH 2 - PROGRESS: at 57.92% examples, 780812 words/s, in_qsize 15, out_qsize 0\n",
      "2022-04-06 22:14:11,990 : INFO : EPOCH 2 - PROGRESS: at 67.56% examples, 781590 words/s, in_qsize 15, out_qsize 0\n",
      "2022-04-06 22:14:13,007 : INFO : EPOCH 2 - PROGRESS: at 77.63% examples, 785645 words/s, in_qsize 15, out_qsize 0\n",
      "2022-04-06 22:14:14,014 : INFO : EPOCH 2 - PROGRESS: at 90.54% examples, 815089 words/s, in_qsize 15, out_qsize 0\n",
      "2022-04-06 22:14:15,017 : INFO : EPOCH 2 - PROGRESS: at 99.01% examples, 802941 words/s, in_qsize 9, out_qsize 1\n",
      "2022-04-06 22:14:15,097 : INFO : worker thread finished; awaiting finish of 7 more threads\n",
      "2022-04-06 22:14:15,139 : INFO : worker thread finished; awaiting finish of 6 more threads\n",
      "2022-04-06 22:14:15,140 : INFO : worker thread finished; awaiting finish of 5 more threads\n",
      "2022-04-06 22:14:15,140 : INFO : worker thread finished; awaiting finish of 4 more threads\n",
      "2022-04-06 22:14:15,141 : INFO : worker thread finished; awaiting finish of 3 more threads\n",
      "2022-04-06 22:14:15,143 : INFO : worker thread finished; awaiting finish of 2 more threads\n",
      "2022-04-06 22:14:15,150 : INFO : worker thread finished; awaiting finish of 1 more threads\n",
      "2022-04-06 22:14:15,202 : INFO : worker thread finished; awaiting finish of 0 more threads\n",
      "2022-04-06 22:14:15,203 : INFO : EPOCH - 2 : training on 9227204 raw words (8222031 effective words) took 10.3s, 796306 effective words/s\n",
      "2022-04-06 22:14:16,319 : INFO : EPOCH 3 - PROGRESS: at 9.23% examples, 746565 words/s, in_qsize 15, out_qsize 0\n",
      "2022-04-06 22:14:17,343 : INFO : EPOCH 3 - PROGRESS: at 19.51% examples, 786200 words/s, in_qsize 15, out_qsize 0\n",
      "2022-04-06 22:14:18,361 : INFO : EPOCH 3 - PROGRESS: at 27.00% examples, 725559 words/s, in_qsize 12, out_qsize 3\n",
      "2022-04-06 22:14:19,363 : INFO : EPOCH 3 - PROGRESS: at 34.78% examples, 704470 words/s, in_qsize 15, out_qsize 0\n",
      "2022-04-06 22:14:20,370 : INFO : EPOCH 3 - PROGRESS: at 45.26% examples, 734952 words/s, in_qsize 15, out_qsize 0\n",
      "2022-04-06 22:14:21,404 : INFO : EPOCH 3 - PROGRESS: at 56.07% examples, 756511 words/s, in_qsize 11, out_qsize 4\n",
      "2022-04-06 22:14:22,406 : INFO : EPOCH 3 - PROGRESS: at 66.91% examples, 775241 words/s, in_qsize 15, out_qsize 0\n",
      "2022-04-06 22:14:23,406 : INFO : EPOCH 3 - PROGRESS: at 79.38% examples, 805907 words/s, in_qsize 15, out_qsize 0\n",
      "2022-04-06 22:14:24,407 : INFO : EPOCH 3 - PROGRESS: at 91.09% examples, 822991 words/s, in_qsize 15, out_qsize 0\n",
      "2022-04-06 22:14:25,088 : INFO : worker thread finished; awaiting finish of 7 more threads\n",
      "2022-04-06 22:14:25,090 : INFO : worker thread finished; awaiting finish of 6 more threads\n",
      "2022-04-06 22:14:25,098 : INFO : worker thread finished; awaiting finish of 5 more threads\n",
      "2022-04-06 22:14:25,106 : INFO : worker thread finished; awaiting finish of 4 more threads\n",
      "2022-04-06 22:14:25,121 : INFO : worker thread finished; awaiting finish of 3 more threads\n",
      "2022-04-06 22:14:25,134 : INFO : worker thread finished; awaiting finish of 2 more threads\n",
      "2022-04-06 22:14:25,137 : INFO : worker thread finished; awaiting finish of 1 more threads\n",
      "2022-04-06 22:14:25,140 : INFO : worker thread finished; awaiting finish of 0 more threads\n",
      "2022-04-06 22:14:25,141 : INFO : EPOCH - 3 : training on 9227204 raw words (8223017 effective words) took 9.8s, 836016 effective words/s\n",
      "2022-04-06 22:14:26,166 : INFO : EPOCH 4 - PROGRESS: at 9.01% examples, 738251 words/s, in_qsize 15, out_qsize 0\n",
      "2022-04-06 22:14:27,198 : INFO : EPOCH 4 - PROGRESS: at 20.48% examples, 828313 words/s, in_qsize 16, out_qsize 1\n",
      "2022-04-06 22:14:28,210 : INFO : EPOCH 4 - PROGRESS: at 32.84% examples, 886719 words/s, in_qsize 15, out_qsize 0\n",
      "2022-04-06 22:14:29,254 : INFO : EPOCH 4 - PROGRESS: at 45.59% examples, 917326 words/s, in_qsize 16, out_qsize 2\n",
      "2022-04-06 22:14:30,254 : INFO : EPOCH 4 - PROGRESS: at 58.15% examples, 940347 words/s, in_qsize 15, out_qsize 0\n",
      "2022-04-06 22:14:31,260 : INFO : EPOCH 4 - PROGRESS: at 70.26% examples, 948782 words/s, in_qsize 15, out_qsize 0\n",
      "2022-04-06 22:14:32,271 : INFO : EPOCH 4 - PROGRESS: at 82.96% examples, 960401 words/s, in_qsize 15, out_qsize 0\n",
      "2022-04-06 22:14:33,287 : INFO : EPOCH 4 - PROGRESS: at 95.23% examples, 964164 words/s, in_qsize 16, out_qsize 2\n",
      "2022-04-06 22:14:33,594 : INFO : worker thread finished; awaiting finish of 7 more threads\n",
      "2022-04-06 22:14:33,598 : INFO : worker thread finished; awaiting finish of 6 more threads\n",
      "2022-04-06 22:14:33,604 : INFO : worker thread finished; awaiting finish of 5 more threads\n",
      "2022-04-06 22:14:33,616 : INFO : worker thread finished; awaiting finish of 4 more threads\n",
      "2022-04-06 22:14:33,620 : INFO : worker thread finished; awaiting finish of 3 more threads\n",
      "2022-04-06 22:14:33,624 : INFO : worker thread finished; awaiting finish of 2 more threads\n",
      "2022-04-06 22:14:33,654 : INFO : worker thread finished; awaiting finish of 1 more threads\n",
      "2022-04-06 22:14:33,660 : INFO : worker thread finished; awaiting finish of 0 more threads\n",
      "2022-04-06 22:14:33,662 : INFO : EPOCH - 4 : training on 9227204 raw words (8223500 effective words) took 8.5s, 967938 effective words/s\n",
      "2022-04-06 22:14:34,686 : INFO : EPOCH 5 - PROGRESS: at 11.95% examples, 980027 words/s, in_qsize 15, out_qsize 0\n",
      "2022-04-06 22:14:35,691 : INFO : EPOCH 5 - PROGRESS: at 23.74% examples, 973172 words/s, in_qsize 15, out_qsize 0\n",
      "2022-04-06 22:14:36,694 : INFO : EPOCH 5 - PROGRESS: at 34.78% examples, 950371 words/s, in_qsize 15, out_qsize 0\n",
      "2022-04-06 22:14:37,700 : INFO : EPOCH 5 - PROGRESS: at 47.21% examples, 967662 words/s, in_qsize 15, out_qsize 0\n",
      "2022-04-06 22:14:38,711 : INFO : EPOCH 5 - PROGRESS: at 59.76% examples, 978763 words/s, in_qsize 14, out_qsize 1\n",
      "2022-04-06 22:14:39,711 : INFO : EPOCH 5 - PROGRESS: at 72.42% examples, 989199 words/s, in_qsize 15, out_qsize 0\n",
      "2022-04-06 22:14:40,724 : INFO : EPOCH 5 - PROGRESS: at 84.80% examples, 991023 words/s, in_qsize 15, out_qsize 0\n",
      "2022-04-06 22:14:41,738 : INFO : EPOCH 5 - PROGRESS: at 93.58% examples, 955744 words/s, in_qsize 14, out_qsize 1\n",
      "2022-04-06 22:14:42,308 : INFO : worker thread finished; awaiting finish of 7 more threads\n",
      "2022-04-06 22:14:42,309 : INFO : worker thread finished; awaiting finish of 6 more threads\n",
      "2022-04-06 22:14:42,312 : INFO : worker thread finished; awaiting finish of 5 more threads\n",
      "2022-04-06 22:14:42,325 : INFO : worker thread finished; awaiting finish of 4 more threads\n",
      "2022-04-06 22:14:42,327 : INFO : worker thread finished; awaiting finish of 3 more threads\n",
      "2022-04-06 22:14:42,328 : INFO : worker thread finished; awaiting finish of 2 more threads\n",
      "2022-04-06 22:14:42,337 : INFO : worker thread finished; awaiting finish of 1 more threads\n",
      "2022-04-06 22:14:42,351 : INFO : worker thread finished; awaiting finish of 0 more threads\n",
      "2022-04-06 22:14:42,353 : INFO : EPOCH - 5 : training on 9227204 raw words (8223211 effective words) took 8.7s, 948812 effective words/s\n",
      "2022-04-06 22:14:43,387 : INFO : EPOCH 6 - PROGRESS: at 9.77% examples, 793954 words/s, in_qsize 15, out_qsize 0\n",
      "2022-04-06 22:14:44,400 : INFO : EPOCH 6 - PROGRESS: at 20.38% examples, 827587 words/s, in_qsize 14, out_qsize 1\n",
      "2022-04-06 22:14:45,408 : INFO : EPOCH 6 - PROGRESS: at 31.00% examples, 840631 words/s, in_qsize 15, out_qsize 0\n",
      "2022-04-06 22:14:46,414 : INFO : EPOCH 6 - PROGRESS: at 43.32% examples, 882802 words/s, in_qsize 15, out_qsize 0\n",
      "2022-04-06 22:14:47,419 : INFO : EPOCH 6 - PROGRESS: at 55.97% examples, 913735 words/s, in_qsize 15, out_qsize 0\n",
      "2022-04-06 22:14:48,419 : INFO : EPOCH 6 - PROGRESS: at 68.42% examples, 931926 words/s, in_qsize 12, out_qsize 3\n",
      "2022-04-06 22:14:49,439 : INFO : EPOCH 6 - PROGRESS: at 80.68% examples, 939813 words/s, in_qsize 15, out_qsize 0\n",
      "2022-04-06 22:14:50,444 : INFO : EPOCH 6 - PROGRESS: at 93.70% examples, 955140 words/s, in_qsize 15, out_qsize 0\n",
      "2022-04-06 22:14:50,848 : INFO : worker thread finished; awaiting finish of 7 more threads\n",
      "2022-04-06 22:14:50,869 : INFO : worker thread finished; awaiting finish of 6 more threads\n",
      "2022-04-06 22:14:50,871 : INFO : worker thread finished; awaiting finish of 5 more threads\n",
      "2022-04-06 22:14:50,878 : INFO : worker thread finished; awaiting finish of 4 more threads\n",
      "2022-04-06 22:14:50,907 : INFO : worker thread finished; awaiting finish of 3 more threads\n",
      "2022-04-06 22:14:50,908 : INFO : worker thread finished; awaiting finish of 2 more threads\n",
      "2022-04-06 22:14:50,909 : INFO : worker thread finished; awaiting finish of 1 more threads\n",
      "2022-04-06 22:14:50,914 : INFO : worker thread finished; awaiting finish of 0 more threads\n",
      "2022-04-06 22:14:50,915 : INFO : EPOCH - 6 : training on 9227204 raw words (8222337 effective words) took 8.5s, 963064 effective words/s\n",
      "2022-04-06 22:14:51,941 : INFO : EPOCH 7 - PROGRESS: at 12.17% examples, 996859 words/s, in_qsize 15, out_qsize 0\n",
      "2022-04-06 22:14:52,950 : INFO : EPOCH 7 - PROGRESS: at 23.53% examples, 961283 words/s, in_qsize 16, out_qsize 1\n",
      "2022-04-06 22:14:53,951 : INFO : EPOCH 7 - PROGRESS: at 35.42% examples, 967226 words/s, in_qsize 14, out_qsize 1\n",
      "2022-04-06 22:14:54,955 : INFO : EPOCH 7 - PROGRESS: at 47.86% examples, 980720 words/s, in_qsize 15, out_qsize 0\n",
      "2022-04-06 22:14:55,961 : INFO : EPOCH 7 - PROGRESS: at 60.30% examples, 988206 words/s, in_qsize 15, out_qsize 0\n",
      "2022-04-06 22:14:56,968 : INFO : EPOCH 7 - PROGRESS: at 72.97% examples, 996014 words/s, in_qsize 15, out_qsize 0\n",
      "2022-04-06 22:14:57,971 : INFO : EPOCH 7 - PROGRESS: at 86.21% examples, 1008320 words/s, in_qsize 15, out_qsize 0\n",
      "2022-04-06 22:14:58,972 : INFO : EPOCH 7 - PROGRESS: at 99.24% examples, 1015883 words/s, in_qsize 7, out_qsize 1\n",
      "2022-04-06 22:14:58,973 : INFO : worker thread finished; awaiting finish of 7 more threads\n",
      "2022-04-06 22:14:58,974 : INFO : worker thread finished; awaiting finish of 6 more threads\n",
      "2022-04-06 22:14:58,986 : INFO : worker thread finished; awaiting finish of 5 more threads\n",
      "2022-04-06 22:14:58,987 : INFO : worker thread finished; awaiting finish of 4 more threads\n",
      "2022-04-06 22:14:58,993 : INFO : worker thread finished; awaiting finish of 3 more threads\n",
      "2022-04-06 22:14:59,018 : INFO : worker thread finished; awaiting finish of 2 more threads\n",
      "2022-04-06 22:14:59,022 : INFO : worker thread finished; awaiting finish of 1 more threads\n",
      "2022-04-06 22:14:59,058 : INFO : worker thread finished; awaiting finish of 0 more threads\n",
      "2022-04-06 22:14:59,059 : INFO : EPOCH - 7 : training on 9227204 raw words (8222471 effective words) took 8.1s, 1012697 effective words/s\n",
      "2022-04-06 22:15:00,088 : INFO : EPOCH 8 - PROGRESS: at 11.62% examples, 947535 words/s, in_qsize 15, out_qsize 0\n",
      "2022-04-06 22:15:01,107 : INFO : EPOCH 8 - PROGRESS: at 23.52% examples, 954417 words/s, in_qsize 14, out_qsize 1\n",
      "2022-04-06 22:15:02,112 : INFO : EPOCH 8 - PROGRESS: at 35.10% examples, 952614 words/s, in_qsize 15, out_qsize 0\n",
      "2022-04-06 22:15:03,120 : INFO : EPOCH 8 - PROGRESS: at 46.78% examples, 953078 words/s, in_qsize 12, out_qsize 3\n",
      "2022-04-06 22:15:04,136 : INFO : EPOCH 8 - PROGRESS: at 59.88% examples, 974827 words/s, in_qsize 16, out_qsize 0\n",
      "2022-04-06 22:15:05,138 : INFO : EPOCH 8 - PROGRESS: at 72.10% examples, 979638 words/s, in_qsize 15, out_qsize 0\n",
      "2022-04-06 22:15:06,147 : INFO : EPOCH 8 - PROGRESS: at 84.91% examples, 988650 words/s, in_qsize 15, out_qsize 0\n",
      "2022-04-06 22:15:07,166 : INFO : EPOCH 8 - PROGRESS: at 97.50% examples, 991725 words/s, in_qsize 15, out_qsize 0\n",
      "2022-04-06 22:15:07,294 : INFO : worker thread finished; awaiting finish of 7 more threads\n",
      "2022-04-06 22:15:07,301 : INFO : worker thread finished; awaiting finish of 6 more threads\n",
      "2022-04-06 22:15:07,303 : INFO : worker thread finished; awaiting finish of 5 more threads\n",
      "2022-04-06 22:15:07,325 : INFO : worker thread finished; awaiting finish of 4 more threads\n",
      "2022-04-06 22:15:07,327 : INFO : worker thread finished; awaiting finish of 3 more threads\n",
      "2022-04-06 22:15:07,337 : INFO : worker thread finished; awaiting finish of 2 more threads\n",
      "2022-04-06 22:15:07,344 : INFO : worker thread finished; awaiting finish of 1 more threads\n",
      "2022-04-06 22:15:07,347 : INFO : worker thread finished; awaiting finish of 0 more threads\n",
      "2022-04-06 22:15:07,348 : INFO : EPOCH - 8 : training on 9227204 raw words (8222635 effective words) took 8.3s, 994778 effective words/s\n",
      "2022-04-06 22:15:08,396 : INFO : EPOCH 9 - PROGRESS: at 11.73% examples, 941225 words/s, in_qsize 15, out_qsize 0\n",
      "2022-04-06 22:15:09,426 : INFO : EPOCH 9 - PROGRESS: at 24.28% examples, 972469 words/s, in_qsize 15, out_qsize 0\n",
      "2022-04-06 22:15:10,432 : INFO : EPOCH 9 - PROGRESS: at 36.40% examples, 978704 words/s, in_qsize 15, out_qsize 0\n",
      "2022-04-06 22:15:11,434 : INFO : EPOCH 9 - PROGRESS: at 48.29% examples, 978502 words/s, in_qsize 14, out_qsize 1\n",
      "2022-04-06 22:15:12,452 : INFO : EPOCH 9 - PROGRESS: at 60.19% examples, 975520 words/s, in_qsize 15, out_qsize 0\n",
      "2022-04-06 22:15:13,485 : INFO : EPOCH 9 - PROGRESS: at 69.94% examples, 941794 words/s, in_qsize 16, out_qsize 0\n",
      "2022-04-06 22:15:14,500 : INFO : EPOCH 9 - PROGRESS: at 82.42% examples, 951281 words/s, in_qsize 14, out_qsize 1\n",
      "2022-04-06 22:15:15,512 : INFO : EPOCH 9 - PROGRESS: at 95.23% examples, 962096 words/s, in_qsize 16, out_qsize 1\n",
      "2022-04-06 22:15:15,819 : INFO : worker thread finished; awaiting finish of 7 more threads\n",
      "2022-04-06 22:15:15,823 : INFO : worker thread finished; awaiting finish of 6 more threads\n",
      "2022-04-06 22:15:15,827 : INFO : worker thread finished; awaiting finish of 5 more threads\n",
      "2022-04-06 22:15:15,837 : INFO : worker thread finished; awaiting finish of 4 more threads\n",
      "2022-04-06 22:15:15,841 : INFO : worker thread finished; awaiting finish of 3 more threads\n",
      "2022-04-06 22:15:15,844 : INFO : worker thread finished; awaiting finish of 2 more threads\n",
      "2022-04-06 22:15:15,850 : INFO : worker thread finished; awaiting finish of 1 more threads\n",
      "2022-04-06 22:15:15,857 : INFO : worker thread finished; awaiting finish of 0 more threads\n",
      "2022-04-06 22:15:15,859 : INFO : EPOCH - 9 : training on 9227204 raw words (8222639 effective words) took 8.5s, 969059 effective words/s\n",
      "2022-04-06 22:15:16,892 : INFO : EPOCH 10 - PROGRESS: at 12.38% examples, 1011805 words/s, in_qsize 13, out_qsize 2\n",
      "2022-04-06 22:15:17,903 : INFO : EPOCH 10 - PROGRESS: at 25.26% examples, 1029874 words/s, in_qsize 15, out_qsize 0\n",
      "2022-04-06 22:15:18,909 : INFO : EPOCH 10 - PROGRESS: at 38.35% examples, 1043577 words/s, in_qsize 15, out_qsize 0\n",
      "2022-04-06 22:15:19,932 : INFO : EPOCH 10 - PROGRESS: at 51.64% examples, 1050766 words/s, in_qsize 15, out_qsize 0\n",
      "2022-04-06 22:15:20,970 : INFO : EPOCH 10 - PROGRESS: at 64.62% examples, 1046537 words/s, in_qsize 15, out_qsize 0\n",
      "2022-04-06 22:15:21,972 : INFO : EPOCH 10 - PROGRESS: at 77.09% examples, 1042385 words/s, in_qsize 15, out_qsize 0\n",
      "2022-04-06 22:15:22,975 : INFO : EPOCH 10 - PROGRESS: at 89.67% examples, 1040503 words/s, in_qsize 15, out_qsize 0\n",
      "2022-04-06 22:15:23,793 : INFO : worker thread finished; awaiting finish of 7 more threads\n",
      "2022-04-06 22:15:23,808 : INFO : worker thread finished; awaiting finish of 6 more threads\n",
      "2022-04-06 22:15:23,821 : INFO : worker thread finished; awaiting finish of 5 more threads\n",
      "2022-04-06 22:15:23,837 : INFO : worker thread finished; awaiting finish of 4 more threads\n",
      "2022-04-06 22:15:23,838 : INFO : worker thread finished; awaiting finish of 3 more threads\n",
      "2022-04-06 22:15:23,845 : INFO : worker thread finished; awaiting finish of 2 more threads\n",
      "2022-04-06 22:15:23,851 : INFO : worker thread finished; awaiting finish of 1 more threads\n",
      "2022-04-06 22:15:23,859 : INFO : worker thread finished; awaiting finish of 0 more threads\n",
      "2022-04-06 22:15:23,860 : INFO : EPOCH - 10 : training on 9227204 raw words (8222226 effective words) took 8.0s, 1031324 effective words/s\n",
      "2022-04-06 22:15:24,887 : INFO : EPOCH 11 - PROGRESS: at 12.06% examples, 986752 words/s, in_qsize 15, out_qsize 0\n",
      "2022-04-06 22:15:25,910 : INFO : EPOCH 11 - PROGRESS: at 23.95% examples, 972572 words/s, in_qsize 15, out_qsize 0\n",
      "2022-04-06 22:15:26,910 : INFO : EPOCH 11 - PROGRESS: at 36.40% examples, 989465 words/s, in_qsize 14, out_qsize 1\n",
      "2022-04-06 22:15:27,923 : INFO : EPOCH 11 - PROGRESS: at 48.40% examples, 986056 words/s, in_qsize 15, out_qsize 0\n",
      "2022-04-06 22:15:28,940 : INFO : EPOCH 11 - PROGRESS: at 60.63% examples, 987007 words/s, in_qsize 13, out_qsize 2\n",
      "2022-04-06 22:15:29,960 : INFO : EPOCH 11 - PROGRESS: at 72.64% examples, 983846 words/s, in_qsize 16, out_qsize 0\n",
      "2022-04-06 22:15:30,972 : INFO : EPOCH 11 - PROGRESS: at 83.72% examples, 971635 words/s, in_qsize 15, out_qsize 0\n",
      "2022-04-06 22:15:31,986 : INFO : EPOCH 11 - PROGRESS: at 96.64% examples, 980715 words/s, in_qsize 15, out_qsize 0\n",
      "2022-04-06 22:15:32,212 : INFO : worker thread finished; awaiting finish of 7 more threads\n",
      "2022-04-06 22:15:32,220 : INFO : worker thread finished; awaiting finish of 6 more threads\n",
      "2022-04-06 22:15:32,223 : INFO : worker thread finished; awaiting finish of 5 more threads\n",
      "2022-04-06 22:15:32,227 : INFO : worker thread finished; awaiting finish of 4 more threads\n",
      "2022-04-06 22:15:32,233 : INFO : worker thread finished; awaiting finish of 3 more threads\n",
      "2022-04-06 22:15:32,244 : INFO : worker thread finished; awaiting finish of 2 more threads\n",
      "2022-04-06 22:15:32,249 : INFO : worker thread finished; awaiting finish of 1 more threads\n",
      "2022-04-06 22:15:32,252 : INFO : worker thread finished; awaiting finish of 0 more threads\n",
      "2022-04-06 22:15:32,252 : INFO : EPOCH - 11 : training on 9227204 raw words (8221313 effective words) took 8.4s, 982586 effective words/s\n",
      "2022-04-06 22:15:33,290 : INFO : EPOCH 12 - PROGRESS: at 11.62% examples, 943308 words/s, in_qsize 15, out_qsize 0\n",
      "2022-04-06 22:15:34,291 : INFO : EPOCH 12 - PROGRESS: at 24.50% examples, 1000720 words/s, in_qsize 13, out_qsize 2\n",
      "2022-04-06 22:15:35,305 : INFO : EPOCH 12 - PROGRESS: at 37.81% examples, 1027229 words/s, in_qsize 15, out_qsize 0\n",
      "2022-04-06 22:15:36,311 : INFO : EPOCH 12 - PROGRESS: at 50.56% examples, 1031727 words/s, in_qsize 16, out_qsize 3\n",
      "2022-04-06 22:15:37,328 : INFO : EPOCH 12 - PROGRESS: at 63.64% examples, 1037482 words/s, in_qsize 14, out_qsize 1\n",
      "2022-04-06 22:15:38,349 : INFO : EPOCH 12 - PROGRESS: at 76.88% examples, 1041924 words/s, in_qsize 15, out_qsize 0\n",
      "2022-04-06 22:15:39,358 : INFO : EPOCH 12 - PROGRESS: at 90.00% examples, 1045661 words/s, in_qsize 15, out_qsize 0\n",
      "2022-04-06 22:15:40,087 : INFO : worker thread finished; awaiting finish of 7 more threads\n",
      "2022-04-06 22:15:40,088 : INFO : worker thread finished; awaiting finish of 6 more threads\n",
      "2022-04-06 22:15:40,101 : INFO : worker thread finished; awaiting finish of 5 more threads\n",
      "2022-04-06 22:15:40,108 : INFO : worker thread finished; awaiting finish of 4 more threads\n",
      "2022-04-06 22:15:40,119 : INFO : worker thread finished; awaiting finish of 3 more threads\n",
      "2022-04-06 22:15:40,126 : INFO : worker thread finished; awaiting finish of 2 more threads\n",
      "2022-04-06 22:15:40,128 : INFO : worker thread finished; awaiting finish of 1 more threads\n",
      "2022-04-06 22:15:40,130 : INFO : worker thread finished; awaiting finish of 0 more threads\n",
      "2022-04-06 22:15:40,132 : INFO : EPOCH - 12 : training on 9227204 raw words (8222485 effective words) took 7.9s, 1047012 effective words/s\n",
      "2022-04-06 22:15:41,186 : INFO : EPOCH 13 - PROGRESS: at 12.60% examples, 1016755 words/s, in_qsize 15, out_qsize 0\n",
      "2022-04-06 22:15:42,192 : INFO : EPOCH 13 - PROGRESS: at 26.02% examples, 1057335 words/s, in_qsize 15, out_qsize 0\n",
      "2022-04-06 22:15:43,192 : INFO : EPOCH 13 - PROGRESS: at 38.68% examples, 1052192 words/s, in_qsize 15, out_qsize 0\n",
      "2022-04-06 22:15:44,203 : INFO : EPOCH 13 - PROGRESS: at 49.81% examples, 1015959 words/s, in_qsize 15, out_qsize 0\n",
      "2022-04-06 22:15:45,206 : INFO : EPOCH 13 - PROGRESS: at 62.79% examples, 1025848 words/s, in_qsize 15, out_qsize 0\n",
      "2022-04-06 22:15:46,210 : INFO : EPOCH 13 - PROGRESS: at 75.24% examples, 1024814 words/s, in_qsize 16, out_qsize 0\n",
      "2022-04-06 22:15:47,214 : INFO : EPOCH 13 - PROGRESS: at 85.34% examples, 996389 words/s, in_qsize 16, out_qsize 1\n",
      "2022-04-06 22:15:48,224 : INFO : EPOCH 13 - PROGRESS: at 94.58% examples, 965365 words/s, in_qsize 15, out_qsize 1\n",
      "2022-04-06 22:15:48,663 : INFO : worker thread finished; awaiting finish of 7 more threads\n",
      "2022-04-06 22:15:48,692 : INFO : worker thread finished; awaiting finish of 6 more threads\n",
      "2022-04-06 22:15:48,692 : INFO : worker thread finished; awaiting finish of 5 more threads\n",
      "2022-04-06 22:15:48,707 : INFO : worker thread finished; awaiting finish of 4 more threads\n",
      "2022-04-06 22:15:48,707 : INFO : worker thread finished; awaiting finish of 3 more threads\n",
      "2022-04-06 22:15:48,709 : INFO : worker thread finished; awaiting finish of 2 more threads\n",
      "2022-04-06 22:15:48,713 : INFO : worker thread finished; awaiting finish of 1 more threads\n",
      "2022-04-06 22:15:48,717 : INFO : worker thread finished; awaiting finish of 0 more threads\n",
      "2022-04-06 22:15:48,718 : INFO : EPOCH - 13 : training on 9227204 raw words (8221862 effective words) took 8.5s, 961861 effective words/s\n",
      "2022-04-06 22:15:49,771 : INFO : EPOCH 14 - PROGRESS: at 8.80% examples, 699507 words/s, in_qsize 15, out_qsize 0\n",
      "2022-04-06 22:15:50,777 : INFO : EPOCH 14 - PROGRESS: at 18.11% examples, 730184 words/s, in_qsize 15, out_qsize 0\n",
      "2022-04-06 22:15:51,781 : INFO : EPOCH 14 - PROGRESS: at 28.40% examples, 767478 words/s, in_qsize 15, out_qsize 0\n",
      "2022-04-06 22:15:52,787 : INFO : EPOCH 14 - PROGRESS: at 36.51% examples, 741762 words/s, in_qsize 15, out_qsize 0\n",
      "2022-04-06 22:15:53,802 : INFO : EPOCH 14 - PROGRESS: at 44.94% examples, 730122 words/s, in_qsize 13, out_qsize 2\n",
      "2022-04-06 22:15:54,804 : INFO : EPOCH 14 - PROGRESS: at 55.10% examples, 747708 words/s, in_qsize 15, out_qsize 0\n",
      "2022-04-06 22:15:55,826 : INFO : EPOCH 14 - PROGRESS: at 65.17% examples, 756826 words/s, in_qsize 11, out_qsize 4\n",
      "2022-04-06 22:15:56,860 : INFO : EPOCH 14 - PROGRESS: at 75.78% examples, 767884 words/s, in_qsize 16, out_qsize 0\n",
      "2022-04-06 22:15:57,860 : INFO : EPOCH 14 - PROGRESS: at 86.31% examples, 778402 words/s, in_qsize 16, out_qsize 0\n",
      "2022-04-06 22:15:58,870 : INFO : EPOCH 14 - PROGRESS: at 96.75% examples, 785263 words/s, in_qsize 15, out_qsize 0\n",
      "2022-04-06 22:15:59,231 : INFO : worker thread finished; awaiting finish of 7 more threads\n",
      "2022-04-06 22:15:59,237 : INFO : worker thread finished; awaiting finish of 6 more threads\n",
      "2022-04-06 22:15:59,239 : INFO : worker thread finished; awaiting finish of 5 more threads\n",
      "2022-04-06 22:15:59,256 : INFO : worker thread finished; awaiting finish of 4 more threads\n",
      "2022-04-06 22:15:59,257 : INFO : worker thread finished; awaiting finish of 3 more threads\n",
      "2022-04-06 22:15:59,264 : INFO : worker thread finished; awaiting finish of 2 more threads\n",
      "2022-04-06 22:15:59,271 : INFO : worker thread finished; awaiting finish of 1 more threads\n",
      "2022-04-06 22:15:59,291 : INFO : worker thread finished; awaiting finish of 0 more threads\n",
      "2022-04-06 22:15:59,292 : INFO : EPOCH - 14 : training on 9227204 raw words (8222535 effective words) took 10.6s, 779260 effective words/s\n",
      "2022-04-06 22:16:00,307 : INFO : EPOCH 15 - PROGRESS: at 11.51% examples, 944210 words/s, in_qsize 15, out_qsize 0\n",
      "2022-04-06 22:16:01,322 : INFO : EPOCH 15 - PROGRESS: at 23.63% examples, 964124 words/s, in_qsize 15, out_qsize 0\n",
      "2022-04-06 22:16:02,331 : INFO : EPOCH 15 - PROGRESS: at 35.97% examples, 978286 words/s, in_qsize 15, out_qsize 0\n",
      "2022-04-06 22:16:03,344 : INFO : EPOCH 15 - PROGRESS: at 47.43% examples, 966577 words/s, in_qsize 15, out_qsize 0\n",
      "2022-04-06 22:16:04,395 : INFO : EPOCH 15 - PROGRESS: at 55.64% examples, 900146 words/s, in_qsize 16, out_qsize 0\n",
      "2022-04-06 22:16:05,403 : INFO : EPOCH 15 - PROGRESS: at 66.36% examples, 895981 words/s, in_qsize 14, out_qsize 0\n",
      "2022-04-06 22:16:06,406 : INFO : EPOCH 15 - PROGRESS: at 77.53% examples, 898471 words/s, in_qsize 15, out_qsize 0\n",
      "2022-04-06 22:16:07,419 : INFO : EPOCH 15 - PROGRESS: at 88.26% examples, 895042 words/s, in_qsize 14, out_qsize 1\n",
      "2022-04-06 22:16:08,318 : INFO : worker thread finished; awaiting finish of 7 more threads\n",
      "2022-04-06 22:16:08,320 : INFO : worker thread finished; awaiting finish of 6 more threads\n",
      "2022-04-06 22:16:08,334 : INFO : worker thread finished; awaiting finish of 5 more threads\n",
      "2022-04-06 22:16:08,346 : INFO : worker thread finished; awaiting finish of 4 more threads\n",
      "2022-04-06 22:16:08,350 : INFO : worker thread finished; awaiting finish of 3 more threads\n",
      "2022-04-06 22:16:08,350 : INFO : worker thread finished; awaiting finish of 2 more threads\n",
      "2022-04-06 22:16:08,360 : INFO : worker thread finished; awaiting finish of 1 more threads\n",
      "2022-04-06 22:16:08,383 : INFO : worker thread finished; awaiting finish of 0 more threads\n",
      "2022-04-06 22:16:08,384 : INFO : EPOCH - 15 : training on 9227204 raw words (8223322 effective words) took 9.1s, 905939 effective words/s\n",
      "2022-04-06 22:16:09,420 : INFO : EPOCH 16 - PROGRESS: at 11.84% examples, 957765 words/s, in_qsize 15, out_qsize 0\n",
      "2022-04-06 22:16:10,429 : INFO : EPOCH 16 - PROGRESS: at 23.74% examples, 964066 words/s, in_qsize 14, out_qsize 1\n",
      "2022-04-06 22:16:11,440 : INFO : EPOCH 16 - PROGRESS: at 35.97% examples, 974676 words/s, in_qsize 15, out_qsize 0\n",
      "2022-04-06 22:16:12,453 : INFO : EPOCH 16 - PROGRESS: at 48.62% examples, 988092 words/s, in_qsize 15, out_qsize 0\n",
      "2022-04-06 22:16:13,454 : INFO : EPOCH 16 - PROGRESS: at 61.17% examples, 997104 words/s, in_qsize 15, out_qsize 0\n",
      "2022-04-06 22:16:14,457 : INFO : EPOCH 16 - PROGRESS: at 73.30% examples, 996508 words/s, in_qsize 15, out_qsize 2\n",
      "2022-04-06 22:16:15,469 : INFO : EPOCH 16 - PROGRESS: at 86.10% examples, 1002474 words/s, in_qsize 15, out_qsize 0\n",
      "2022-04-06 22:16:16,476 : INFO : EPOCH 16 - PROGRESS: at 95.12% examples, 969001 words/s, in_qsize 15, out_qsize 0\n",
      "2022-04-06 22:16:16,857 : INFO : worker thread finished; awaiting finish of 7 more threads\n",
      "2022-04-06 22:16:16,883 : INFO : worker thread finished; awaiting finish of 6 more threads\n",
      "2022-04-06 22:16:16,890 : INFO : worker thread finished; awaiting finish of 5 more threads\n",
      "2022-04-06 22:16:16,891 : INFO : worker thread finished; awaiting finish of 4 more threads\n",
      "2022-04-06 22:16:16,895 : INFO : worker thread finished; awaiting finish of 3 more threads\n",
      "2022-04-06 22:16:16,898 : INFO : worker thread finished; awaiting finish of 2 more threads\n",
      "2022-04-06 22:16:16,907 : INFO : worker thread finished; awaiting finish of 1 more threads\n",
      "2022-04-06 22:16:16,919 : INFO : worker thread finished; awaiting finish of 0 more threads\n",
      "2022-04-06 22:16:16,920 : INFO : EPOCH - 16 : training on 9227204 raw words (8221753 effective words) took 8.5s, 965622 effective words/s\n",
      "2022-04-06 22:16:17,957 : INFO : EPOCH 17 - PROGRESS: at 10.75% examples, 875294 words/s, in_qsize 15, out_qsize 0\n",
      "2022-04-06 22:16:18,968 : INFO : EPOCH 17 - PROGRESS: at 22.00% examples, 898139 words/s, in_qsize 15, out_qsize 6\n",
      "2022-04-06 22:16:19,968 : INFO : EPOCH 17 - PROGRESS: at 34.03% examples, 926788 words/s, in_qsize 16, out_qsize 1\n",
      "2022-04-06 22:16:20,978 : INFO : EPOCH 17 - PROGRESS: at 46.35% examples, 946488 words/s, in_qsize 15, out_qsize 0\n",
      "2022-04-06 22:16:21,991 : INFO : EPOCH 17 - PROGRESS: at 57.48% examples, 938462 words/s, in_qsize 16, out_qsize 0\n",
      "2022-04-06 22:16:22,996 : INFO : EPOCH 17 - PROGRESS: at 69.94% examples, 951952 words/s, in_qsize 15, out_qsize 0\n",
      "2022-04-06 22:16:24,004 : INFO : EPOCH 17 - PROGRESS: at 82.42% examples, 961088 words/s, in_qsize 15, out_qsize 0\n",
      "2022-04-06 22:16:25,039 : INFO : EPOCH 17 - PROGRESS: at 95.12% examples, 966846 words/s, in_qsize 15, out_qsize 0\n",
      "2022-04-06 22:16:25,458 : INFO : worker thread finished; awaiting finish of 7 more threads\n",
      "2022-04-06 22:16:25,461 : INFO : worker thread finished; awaiting finish of 6 more threads\n",
      "2022-04-06 22:16:25,471 : INFO : worker thread finished; awaiting finish of 5 more threads\n",
      "2022-04-06 22:16:25,476 : INFO : worker thread finished; awaiting finish of 4 more threads\n",
      "2022-04-06 22:16:25,491 : INFO : worker thread finished; awaiting finish of 3 more threads\n",
      "2022-04-06 22:16:25,507 : INFO : worker thread finished; awaiting finish of 2 more threads\n",
      "2022-04-06 22:16:25,509 : INFO : worker thread finished; awaiting finish of 1 more threads\n",
      "2022-04-06 22:16:25,524 : INFO : worker thread finished; awaiting finish of 0 more threads\n",
      "2022-04-06 22:16:25,525 : INFO : EPOCH - 17 : training on 9227204 raw words (8223305 effective words) took 8.6s, 958876 effective words/s\n",
      "2022-04-06 22:16:26,549 : INFO : EPOCH 18 - PROGRESS: at 11.73% examples, 961453 words/s, in_qsize 15, out_qsize 0\n",
      "2022-04-06 22:16:27,552 : INFO : EPOCH 18 - PROGRESS: at 23.31% examples, 956145 words/s, in_qsize 15, out_qsize 0\n",
      "2022-04-06 22:16:28,553 : INFO : EPOCH 18 - PROGRESS: at 34.24% examples, 936956 words/s, in_qsize 15, out_qsize 0\n",
      "2022-04-06 22:16:29,555 : INFO : EPOCH 18 - PROGRESS: at 45.59% examples, 936251 words/s, in_qsize 15, out_qsize 0\n",
      "2022-04-06 22:16:30,561 : INFO : EPOCH 18 - PROGRESS: at 57.16% examples, 938578 words/s, in_qsize 15, out_qsize 0\n",
      "2022-04-06 22:16:31,564 : INFO : EPOCH 18 - PROGRESS: at 66.15% examples, 904902 words/s, in_qsize 15, out_qsize 0\n",
      "2022-04-06 22:16:32,573 : INFO : EPOCH 18 - PROGRESS: at 76.55% examples, 896598 words/s, in_qsize 13, out_qsize 2\n",
      "2022-04-06 22:16:33,596 : INFO : EPOCH 18 - PROGRESS: at 87.17% examples, 891064 words/s, in_qsize 13, out_qsize 2\n",
      "2022-04-06 22:16:34,598 : INFO : EPOCH 18 - PROGRESS: at 96.96% examples, 880919 words/s, in_qsize 15, out_qsize 0\n",
      "2022-04-06 22:16:34,834 : INFO : worker thread finished; awaiting finish of 7 more threads\n",
      "2022-04-06 22:16:34,835 : INFO : worker thread finished; awaiting finish of 6 more threads\n",
      "2022-04-06 22:16:34,838 : INFO : worker thread finished; awaiting finish of 5 more threads\n",
      "2022-04-06 22:16:34,866 : INFO : worker thread finished; awaiting finish of 4 more threads\n",
      "2022-04-06 22:16:34,870 : INFO : worker thread finished; awaiting finish of 3 more threads\n",
      "2022-04-06 22:16:34,873 : INFO : worker thread finished; awaiting finish of 2 more threads\n",
      "2022-04-06 22:16:34,908 : INFO : worker thread finished; awaiting finish of 1 more threads\n",
      "2022-04-06 22:16:34,909 : INFO : worker thread finished; awaiting finish of 0 more threads\n",
      "2022-04-06 22:16:34,910 : INFO : EPOCH - 18 : training on 9227204 raw words (8223329 effective words) took 9.4s, 878349 effective words/s\n",
      "2022-04-06 22:16:35,952 : INFO : EPOCH 19 - PROGRESS: at 10.21% examples, 829533 words/s, in_qsize 15, out_qsize 0\n",
      "2022-04-06 22:16:36,957 : INFO : EPOCH 19 - PROGRESS: at 22.76% examples, 928361 words/s, in_qsize 15, out_qsize 0\n",
      "2022-04-06 22:16:37,960 : INFO : EPOCH 19 - PROGRESS: at 35.43% examples, 965051 words/s, in_qsize 14, out_qsize 1\n",
      "2022-04-06 22:16:38,974 : INFO : EPOCH 19 - PROGRESS: at 46.99% examples, 958777 words/s, in_qsize 15, out_qsize 0\n",
      "2022-04-06 22:16:39,980 : INFO : EPOCH 19 - PROGRESS: at 58.47% examples, 954864 words/s, in_qsize 15, out_qsize 0\n",
      "2022-04-06 22:16:40,982 : INFO : EPOCH 19 - PROGRESS: at 71.24% examples, 970481 words/s, in_qsize 15, out_qsize 0\n",
      "2022-04-06 22:16:41,998 : INFO : EPOCH 19 - PROGRESS: at 84.15% examples, 980821 words/s, in_qsize 13, out_qsize 2\n",
      "2022-04-06 22:16:43,000 : INFO : EPOCH 19 - PROGRESS: at 95.12% examples, 970556 words/s, in_qsize 15, out_qsize 0\n",
      "2022-04-06 22:16:43,329 : INFO : worker thread finished; awaiting finish of 7 more threads\n",
      "2022-04-06 22:16:43,330 : INFO : worker thread finished; awaiting finish of 6 more threads\n",
      "2022-04-06 22:16:43,336 : INFO : worker thread finished; awaiting finish of 5 more threads\n",
      "2022-04-06 22:16:43,353 : INFO : worker thread finished; awaiting finish of 4 more threads\n",
      "2022-04-06 22:16:43,354 : INFO : worker thread finished; awaiting finish of 3 more threads\n",
      "2022-04-06 22:16:43,356 : INFO : worker thread finished; awaiting finish of 2 more threads\n",
      "2022-04-06 22:16:43,356 : INFO : worker thread finished; awaiting finish of 1 more threads\n",
      "2022-04-06 22:16:43,361 : INFO : worker thread finished; awaiting finish of 0 more threads\n",
      "2022-04-06 22:16:43,361 : INFO : EPOCH - 19 : training on 9227204 raw words (8221950 effective words) took 8.4s, 976573 effective words/s\n",
      "2022-04-06 22:16:44,388 : INFO : EPOCH 20 - PROGRESS: at 12.28% examples, 1006839 words/s, in_qsize 15, out_qsize 0\n",
      "2022-04-06 22:16:45,393 : INFO : EPOCH 20 - PROGRESS: at 25.15% examples, 1031067 words/s, in_qsize 15, out_qsize 0\n",
      "2022-04-06 22:16:46,397 : INFO : EPOCH 20 - PROGRESS: at 38.03% examples, 1039031 words/s, in_qsize 15, out_qsize 0\n",
      "2022-04-06 22:16:47,410 : INFO : EPOCH 20 - PROGRESS: at 51.11% examples, 1045724 words/s, in_qsize 15, out_qsize 0\n",
      "2022-04-06 22:16:48,432 : INFO : EPOCH 20 - PROGRESS: at 63.43% examples, 1035120 words/s, in_qsize 15, out_qsize 0\n",
      "2022-04-06 22:16:49,437 : INFO : EPOCH 20 - PROGRESS: at 74.48% examples, 1013192 words/s, in_qsize 15, out_qsize 0\n",
      "2022-04-06 22:16:50,447 : INFO : EPOCH 20 - PROGRESS: at 87.07% examples, 1014692 words/s, in_qsize 15, out_qsize 0\n",
      "2022-04-06 22:16:51,386 : INFO : worker thread finished; awaiting finish of 7 more threads\n",
      "2022-04-06 22:16:51,388 : INFO : worker thread finished; awaiting finish of 6 more threads\n",
      "2022-04-06 22:16:51,397 : INFO : worker thread finished; awaiting finish of 5 more threads\n",
      "2022-04-06 22:16:51,398 : INFO : worker thread finished; awaiting finish of 4 more threads\n",
      "2022-04-06 22:16:51,405 : INFO : worker thread finished; awaiting finish of 3 more threads\n",
      "2022-04-06 22:16:51,411 : INFO : worker thread finished; awaiting finish of 2 more threads\n",
      "2022-04-06 22:16:51,413 : INFO : worker thread finished; awaiting finish of 1 more threads\n",
      "2022-04-06 22:16:51,426 : INFO : worker thread finished; awaiting finish of 0 more threads\n",
      "2022-04-06 22:16:51,426 : INFO : EPOCH - 20 : training on 9227204 raw words (8223109 effective words) took 8.0s, 1022884 effective words/s\n",
      "2022-04-06 22:16:52,453 : INFO : EPOCH 21 - PROGRESS: at 12.82% examples, 1048531 words/s, in_qsize 15, out_qsize 0\n",
      "2022-04-06 22:16:53,463 : INFO : EPOCH 21 - PROGRESS: at 25.37% examples, 1036109 words/s, in_qsize 15, out_qsize 0\n",
      "2022-04-06 22:16:54,494 : INFO : EPOCH 21 - PROGRESS: at 38.35% examples, 1036167 words/s, in_qsize 15, out_qsize 0\n",
      "2022-04-06 22:16:55,537 : INFO : EPOCH 21 - PROGRESS: at 51.97% examples, 1046561 words/s, in_qsize 15, out_qsize 1\n",
      "2022-04-06 22:16:56,539 : INFO : EPOCH 21 - PROGRESS: at 64.95% examples, 1050710 words/s, in_qsize 15, out_qsize 0\n",
      "2022-04-06 22:16:57,541 : INFO : EPOCH 21 - PROGRESS: at 77.42% examples, 1045846 words/s, in_qsize 14, out_qsize 3\n",
      "2022-04-06 22:16:58,547 : INFO : EPOCH 21 - PROGRESS: at 90.76% examples, 1051917 words/s, in_qsize 15, out_qsize 0\n",
      "2022-04-06 22:16:59,280 : INFO : worker thread finished; awaiting finish of 7 more threads\n",
      "2022-04-06 22:16:59,281 : INFO : worker thread finished; awaiting finish of 6 more threads\n",
      "2022-04-06 22:16:59,282 : INFO : worker thread finished; awaiting finish of 5 more threads\n",
      "2022-04-06 22:16:59,282 : INFO : worker thread finished; awaiting finish of 4 more threads\n",
      "2022-04-06 22:16:59,284 : INFO : worker thread finished; awaiting finish of 3 more threads\n",
      "2022-04-06 22:16:59,286 : INFO : worker thread finished; awaiting finish of 2 more threads\n",
      "2022-04-06 22:16:59,308 : INFO : worker thread finished; awaiting finish of 1 more threads\n",
      "2022-04-06 22:16:59,310 : INFO : worker thread finished; awaiting finish of 0 more threads\n",
      "2022-04-06 22:16:59,311 : INFO : EPOCH - 21 : training on 9227204 raw words (8222946 effective words) took 7.9s, 1046117 effective words/s\n",
      "2022-04-06 22:17:00,345 : INFO : EPOCH 22 - PROGRESS: at 12.49% examples, 1012280 words/s, in_qsize 16, out_qsize 0\n",
      "2022-04-06 22:17:01,358 : INFO : EPOCH 22 - PROGRESS: at 24.17% examples, 980889 words/s, in_qsize 14, out_qsize 1\n",
      "2022-04-06 22:17:02,359 : INFO : EPOCH 22 - PROGRESS: at 37.37% examples, 1015696 words/s, in_qsize 15, out_qsize 0\n",
      "2022-04-06 22:17:03,361 : INFO : EPOCH 22 - PROGRESS: at 50.24% examples, 1026295 words/s, in_qsize 15, out_qsize 0\n",
      "2022-04-06 22:17:04,377 : INFO : EPOCH 22 - PROGRESS: at 63.00% examples, 1028153 words/s, in_qsize 15, out_qsize 0\n",
      "2022-04-06 22:17:05,405 : INFO : EPOCH 22 - PROGRESS: at 76.33% examples, 1034368 words/s, in_qsize 15, out_qsize 0\n",
      "2022-04-06 22:17:06,432 : INFO : EPOCH 22 - PROGRESS: at 89.56% examples, 1037777 words/s, in_qsize 14, out_qsize 1\n",
      "2022-04-06 22:17:07,307 : INFO : worker thread finished; awaiting finish of 7 more threads\n",
      "2022-04-06 22:17:07,308 : INFO : worker thread finished; awaiting finish of 6 more threads\n",
      "2022-04-06 22:17:07,311 : INFO : worker thread finished; awaiting finish of 5 more threads\n",
      "2022-04-06 22:17:07,316 : INFO : worker thread finished; awaiting finish of 4 more threads\n",
      "2022-04-06 22:17:07,322 : INFO : worker thread finished; awaiting finish of 3 more threads\n",
      "2022-04-06 22:17:07,326 : INFO : worker thread finished; awaiting finish of 2 more threads\n",
      "2022-04-06 22:17:07,329 : INFO : worker thread finished; awaiting finish of 1 more threads\n",
      "2022-04-06 22:17:07,342 : INFO : worker thread finished; awaiting finish of 0 more threads\n",
      "2022-04-06 22:17:07,343 : INFO : EPOCH - 22 : training on 9227204 raw words (8222121 effective words) took 8.0s, 1026519 effective words/s\n",
      "2022-04-06 22:17:08,375 : INFO : EPOCH 23 - PROGRESS: at 11.30% examples, 914563 words/s, in_qsize 16, out_qsize 0\n",
      "2022-04-06 22:17:09,378 : INFO : EPOCH 23 - PROGRESS: at 21.35% examples, 870528 words/s, in_qsize 15, out_qsize 0\n",
      "2022-04-06 22:17:10,381 : INFO : EPOCH 23 - PROGRESS: at 32.19% examples, 876325 words/s, in_qsize 15, out_qsize 0\n",
      "2022-04-06 22:17:11,408 : INFO : EPOCH 23 - PROGRESS: at 44.83% examples, 911474 words/s, in_qsize 15, out_qsize 0\n",
      "2022-04-06 22:17:12,410 : INFO : EPOCH 23 - PROGRESS: at 57.38% examples, 935475 words/s, in_qsize 15, out_qsize 0\n",
      "2022-04-06 22:17:13,423 : INFO : EPOCH 23 - PROGRESS: at 70.27% examples, 953875 words/s, in_qsize 15, out_qsize 0\n",
      "2022-04-06 22:17:14,426 : INFO : EPOCH 23 - PROGRESS: at 82.64% examples, 962310 words/s, in_qsize 15, out_qsize 0\n",
      "2022-04-06 22:17:15,428 : INFO : EPOCH 23 - PROGRESS: at 94.25% examples, 960761 words/s, in_qsize 15, out_qsize 0\n",
      "2022-04-06 22:17:15,818 : INFO : worker thread finished; awaiting finish of 7 more threads\n",
      "2022-04-06 22:17:15,822 : INFO : worker thread finished; awaiting finish of 6 more threads\n",
      "2022-04-06 22:17:15,842 : INFO : worker thread finished; awaiting finish of 5 more threads\n",
      "2022-04-06 22:17:15,843 : INFO : worker thread finished; awaiting finish of 4 more threads\n",
      "2022-04-06 22:17:15,849 : INFO : worker thread finished; awaiting finish of 3 more threads\n",
      "2022-04-06 22:17:15,862 : INFO : worker thread finished; awaiting finish of 2 more threads\n",
      "2022-04-06 22:17:15,872 : INFO : worker thread finished; awaiting finish of 1 more threads\n",
      "2022-04-06 22:17:15,877 : INFO : worker thread finished; awaiting finish of 0 more threads\n",
      "2022-04-06 22:17:15,877 : INFO : EPOCH - 23 : training on 9227204 raw words (8222932 effective words) took 8.5s, 965654 effective words/s\n",
      "2022-04-06 22:17:16,927 : INFO : EPOCH 24 - PROGRESS: at 12.06% examples, 984180 words/s, in_qsize 15, out_qsize 0\n",
      "2022-04-06 22:17:17,930 : INFO : EPOCH 24 - PROGRESS: at 22.11% examples, 904884 words/s, in_qsize 15, out_qsize 0\n",
      "2022-04-06 22:17:18,945 : INFO : EPOCH 24 - PROGRESS: at 31.10% examples, 845736 words/s, in_qsize 15, out_qsize 0\n",
      "2022-04-06 22:17:19,966 : INFO : EPOCH 24 - PROGRESS: at 37.81% examples, 768745 words/s, in_qsize 16, out_qsize 0\n",
      "2022-04-06 22:17:20,972 : INFO : EPOCH 24 - PROGRESS: at 46.46% examples, 756587 words/s, in_qsize 15, out_qsize 0\n",
      "2022-04-06 22:17:21,976 : INFO : EPOCH 24 - PROGRESS: at 57.60% examples, 782916 words/s, in_qsize 7, out_qsize 0\n",
      "2022-04-06 22:17:23,008 : INFO : EPOCH 24 - PROGRESS: at 68.42% examples, 794549 words/s, in_qsize 15, out_qsize 0\n",
      "2022-04-06 22:17:24,008 : INFO : EPOCH 24 - PROGRESS: at 79.81% examples, 811880 words/s, in_qsize 15, out_qsize 0\n",
      "2022-04-06 22:17:25,011 : INFO : EPOCH 24 - PROGRESS: at 91.41% examples, 827149 words/s, in_qsize 15, out_qsize 0\n",
      "2022-04-06 22:17:25,964 : INFO : worker thread finished; awaiting finish of 7 more threads\n",
      "2022-04-06 22:17:25,966 : INFO : worker thread finished; awaiting finish of 6 more threads\n",
      "2022-04-06 22:17:25,972 : INFO : worker thread finished; awaiting finish of 5 more threads\n",
      "2022-04-06 22:17:25,974 : INFO : worker thread finished; awaiting finish of 4 more threads\n",
      "2022-04-06 22:17:25,996 : INFO : worker thread finished; awaiting finish of 3 more threads\n",
      "2022-04-06 22:17:25,999 : INFO : worker thread finished; awaiting finish of 2 more threads\n",
      "2022-04-06 22:17:26,005 : INFO : worker thread finished; awaiting finish of 1 more threads\n",
      "2022-04-06 22:17:26,006 : INFO : worker thread finished; awaiting finish of 0 more threads\n",
      "2022-04-06 22:17:26,006 : INFO : EPOCH - 24 : training on 9227204 raw words (8221909 effective words) took 10.1s, 815336 effective words/s\n",
      "2022-04-06 22:17:27,054 : INFO : EPOCH 25 - PROGRESS: at 11.51% examples, 928412 words/s, in_qsize 15, out_qsize 0\n",
      "2022-04-06 22:17:28,065 : INFO : EPOCH 25 - PROGRESS: at 23.09% examples, 935873 words/s, in_qsize 15, out_qsize 0\n",
      "2022-04-06 22:17:29,073 : INFO : EPOCH 25 - PROGRESS: at 35.10% examples, 950571 words/s, in_qsize 15, out_qsize 0\n",
      "2022-04-06 22:17:30,081 : INFO : EPOCH 25 - PROGRESS: at 47.21% examples, 960394 words/s, in_qsize 15, out_qsize 0\n",
      "2022-04-06 22:17:31,096 : INFO : EPOCH 25 - PROGRESS: at 59.66% examples, 970384 words/s, in_qsize 15, out_qsize 0\n",
      "2022-04-06 22:17:32,103 : INFO : EPOCH 25 - PROGRESS: at 71.67% examples, 972148 words/s, in_qsize 15, out_qsize 0\n",
      "2022-04-06 22:17:33,112 : INFO : EPOCH 25 - PROGRESS: at 83.40% examples, 969593 words/s, in_qsize 15, out_qsize 0\n",
      "2022-04-06 22:17:34,124 : INFO : EPOCH 25 - PROGRESS: at 94.69% examples, 962702 words/s, in_qsize 16, out_qsize 2\n",
      "2022-04-06 22:17:34,516 : INFO : worker thread finished; awaiting finish of 7 more threads\n",
      "2022-04-06 22:17:34,516 : INFO : worker thread finished; awaiting finish of 6 more threads\n",
      "2022-04-06 22:17:34,523 : INFO : worker thread finished; awaiting finish of 5 more threads\n",
      "2022-04-06 22:17:34,536 : INFO : worker thread finished; awaiting finish of 4 more threads\n",
      "2022-04-06 22:17:34,547 : INFO : worker thread finished; awaiting finish of 3 more threads\n",
      "2022-04-06 22:17:34,553 : INFO : worker thread finished; awaiting finish of 2 more threads\n",
      "2022-04-06 22:17:34,565 : INFO : worker thread finished; awaiting finish of 1 more threads\n",
      "2022-04-06 22:17:34,582 : INFO : worker thread finished; awaiting finish of 0 more threads\n",
      "2022-04-06 22:17:34,583 : INFO : EPOCH - 25 : training on 9227204 raw words (8222353 effective words) took 8.5s, 962201 effective words/s\n",
      "2022-04-06 22:17:35,611 : INFO : EPOCH 26 - PROGRESS: at 10.97% examples, 898445 words/s, in_qsize 15, out_qsize 0\n",
      "2022-04-06 22:17:36,643 : INFO : EPOCH 26 - PROGRESS: at 21.57% examples, 871440 words/s, in_qsize 15, out_qsize 0\n",
      "2022-04-06 22:17:37,648 : INFO : EPOCH 26 - PROGRESS: at 32.19% examples, 870357 words/s, in_qsize 15, out_qsize 0\n",
      "2022-04-06 22:17:38,661 : INFO : EPOCH 26 - PROGRESS: at 43.97% examples, 892421 words/s, in_qsize 14, out_qsize 1\n",
      "2022-04-06 22:17:39,677 : INFO : EPOCH 26 - PROGRESS: at 56.19% examples, 912334 words/s, in_qsize 15, out_qsize 0\n",
      "2022-04-06 22:17:40,699 : INFO : EPOCH 26 - PROGRESS: at 68.09% examples, 920067 words/s, in_qsize 14, out_qsize 1\n",
      "2022-04-06 22:17:41,707 : INFO : EPOCH 26 - PROGRESS: at 80.25% examples, 929936 words/s, in_qsize 15, out_qsize 0\n",
      "2022-04-06 22:17:42,715 : INFO : EPOCH 26 - PROGRESS: at 92.72% examples, 940511 words/s, in_qsize 15, out_qsize 0\n",
      "2022-04-06 22:17:43,257 : INFO : worker thread finished; awaiting finish of 7 more threads\n",
      "2022-04-06 22:17:43,280 : INFO : worker thread finished; awaiting finish of 6 more threads\n",
      "2022-04-06 22:17:43,287 : INFO : worker thread finished; awaiting finish of 5 more threads\n",
      "2022-04-06 22:17:43,288 : INFO : worker thread finished; awaiting finish of 4 more threads\n",
      "2022-04-06 22:17:43,293 : INFO : worker thread finished; awaiting finish of 3 more threads\n",
      "2022-04-06 22:17:43,294 : INFO : worker thread finished; awaiting finish of 2 more threads\n",
      "2022-04-06 22:17:43,298 : INFO : worker thread finished; awaiting finish of 1 more threads\n",
      "2022-04-06 22:17:43,310 : INFO : worker thread finished; awaiting finish of 0 more threads\n",
      "2022-04-06 22:17:43,312 : INFO : EPOCH - 26 : training on 9227204 raw words (8221423 effective words) took 8.7s, 944667 effective words/s\n",
      "2022-04-06 22:17:44,346 : INFO : EPOCH 27 - PROGRESS: at 11.19% examples, 905163 words/s, in_qsize 15, out_qsize 0\n",
      "2022-04-06 22:17:45,361 : INFO : EPOCH 27 - PROGRESS: at 22.77% examples, 922177 words/s, in_qsize 15, out_qsize 0\n",
      "2022-04-06 22:17:46,365 : INFO : EPOCH 27 - PROGRESS: at 34.68% examples, 939959 words/s, in_qsize 14, out_qsize 1\n",
      "2022-04-06 22:17:47,367 : INFO : EPOCH 27 - PROGRESS: at 44.40% examples, 905393 words/s, in_qsize 15, out_qsize 0\n",
      "2022-04-06 22:17:48,375 : INFO : EPOCH 27 - PROGRESS: at 56.19% examples, 916991 words/s, in_qsize 11, out_qsize 6\n",
      "2022-04-06 22:17:49,388 : INFO : EPOCH 27 - PROGRESS: at 68.21% examples, 926877 words/s, in_qsize 15, out_qsize 0\n",
      "2022-04-06 22:17:50,390 : INFO : EPOCH 27 - PROGRESS: at 80.68% examples, 940297 words/s, in_qsize 15, out_qsize 0\n",
      "2022-04-06 22:17:51,393 : INFO : EPOCH 27 - PROGRESS: at 92.61% examples, 944956 words/s, in_qsize 15, out_qsize 0\n",
      "2022-04-06 22:17:51,937 : INFO : worker thread finished; awaiting finish of 7 more threads\n",
      "2022-04-06 22:17:51,939 : INFO : worker thread finished; awaiting finish of 6 more threads\n",
      "2022-04-06 22:17:51,939 : INFO : worker thread finished; awaiting finish of 5 more threads\n",
      "2022-04-06 22:17:51,953 : INFO : worker thread finished; awaiting finish of 4 more threads\n",
      "2022-04-06 22:17:51,958 : INFO : worker thread finished; awaiting finish of 3 more threads\n",
      "2022-04-06 22:17:51,962 : INFO : worker thread finished; awaiting finish of 2 more threads\n",
      "2022-04-06 22:17:51,963 : INFO : worker thread finished; awaiting finish of 1 more threads\n",
      "2022-04-06 22:17:51,972 : INFO : worker thread finished; awaiting finish of 0 more threads\n",
      "2022-04-06 22:17:51,972 : INFO : EPOCH - 27 : training on 9227204 raw words (8222730 effective words) took 8.6s, 951709 effective words/s\n",
      "2022-04-06 22:17:52,993 : INFO : EPOCH 28 - PROGRESS: at 11.08% examples, 907407 words/s, in_qsize 15, out_qsize 0\n",
      "2022-04-06 22:17:53,995 : INFO : EPOCH 28 - PROGRESS: at 23.09% examples, 947138 words/s, in_qsize 15, out_qsize 0\n",
      "2022-04-06 22:17:55,010 : INFO : EPOCH 28 - PROGRESS: at 35.32% examples, 962309 words/s, in_qsize 16, out_qsize 1\n",
      "2022-04-06 22:17:56,012 : INFO : EPOCH 28 - PROGRESS: at 47.32% examples, 968340 words/s, in_qsize 15, out_qsize 0\n",
      "2022-04-06 22:17:57,018 : INFO : EPOCH 28 - PROGRESS: at 59.12% examples, 968087 words/s, in_qsize 15, out_qsize 0\n",
      "2022-04-06 22:17:58,018 : INFO : EPOCH 28 - PROGRESS: at 71.45% examples, 975913 words/s, in_qsize 13, out_qsize 2\n",
      "2022-04-06 22:17:59,026 : INFO : EPOCH 28 - PROGRESS: at 83.72% examples, 979098 words/s, in_qsize 15, out_qsize 0\n",
      "2022-04-06 22:18:00,053 : INFO : EPOCH 28 - PROGRESS: at 96.42% examples, 983639 words/s, in_qsize 15, out_qsize 0\n",
      "2022-04-06 22:18:00,295 : INFO : worker thread finished; awaiting finish of 7 more threads\n",
      "2022-04-06 22:18:00,298 : INFO : worker thread finished; awaiting finish of 6 more threads\n",
      "2022-04-06 22:18:00,324 : INFO : worker thread finished; awaiting finish of 5 more threads\n",
      "2022-04-06 22:18:00,325 : INFO : worker thread finished; awaiting finish of 4 more threads\n",
      "2022-04-06 22:18:00,332 : INFO : worker thread finished; awaiting finish of 3 more threads\n",
      "2022-04-06 22:18:00,358 : INFO : worker thread finished; awaiting finish of 2 more threads\n",
      "2022-04-06 22:18:00,364 : INFO : worker thread finished; awaiting finish of 1 more threads\n",
      "2022-04-06 22:18:00,367 : INFO : worker thread finished; awaiting finish of 0 more threads\n",
      "2022-04-06 22:18:00,367 : INFO : EPOCH - 28 : training on 9227204 raw words (8223208 effective words) took 8.4s, 981920 effective words/s\n",
      "2022-04-06 22:18:01,395 : INFO : EPOCH 29 - PROGRESS: at 10.86% examples, 889431 words/s, in_qsize 15, out_qsize 0\n",
      "2022-04-06 22:18:02,396 : INFO : EPOCH 29 - PROGRESS: at 22.44% examples, 920804 words/s, in_qsize 15, out_qsize 0\n",
      "2022-04-06 22:18:03,405 : INFO : EPOCH 29 - PROGRESS: at 33.70% examples, 920137 words/s, in_qsize 15, out_qsize 0\n",
      "2022-04-06 22:18:04,407 : INFO : EPOCH 29 - PROGRESS: at 43.54% examples, 892313 words/s, in_qsize 14, out_qsize 1\n",
      "2022-04-06 22:18:05,411 : INFO : EPOCH 29 - PROGRESS: at 55.97% examples, 918163 words/s, in_qsize 15, out_qsize 0\n",
      "2022-04-06 22:18:06,415 : INFO : EPOCH 29 - PROGRESS: at 67.88% examples, 927726 words/s, in_qsize 15, out_qsize 0\n",
      "2022-04-06 22:18:07,420 : INFO : EPOCH 29 - PROGRESS: at 80.36% examples, 940866 words/s, in_qsize 15, out_qsize 0\n",
      "2022-04-06 22:18:08,426 : INFO : EPOCH 29 - PROGRESS: at 91.96% examples, 941603 words/s, in_qsize 15, out_qsize 0\n",
      "2022-04-06 22:18:09,020 : INFO : worker thread finished; awaiting finish of 7 more threads\n",
      "2022-04-06 22:18:09,029 : INFO : worker thread finished; awaiting finish of 6 more threads\n",
      "2022-04-06 22:18:09,045 : INFO : worker thread finished; awaiting finish of 5 more threads\n",
      "2022-04-06 22:18:09,052 : INFO : worker thread finished; awaiting finish of 4 more threads\n",
      "2022-04-06 22:18:09,067 : INFO : worker thread finished; awaiting finish of 3 more threads\n",
      "2022-04-06 22:18:09,080 : INFO : worker thread finished; awaiting finish of 2 more threads\n",
      "2022-04-06 22:18:09,082 : INFO : worker thread finished; awaiting finish of 1 more threads\n",
      "2022-04-06 22:18:09,089 : INFO : worker thread finished; awaiting finish of 0 more threads\n",
      "2022-04-06 22:18:09,090 : INFO : EPOCH - 29 : training on 9227204 raw words (8223736 effective words) took 8.7s, 945673 effective words/s\n",
      "2022-04-06 22:18:10,116 : INFO : EPOCH 30 - PROGRESS: at 11.40% examples, 935007 words/s, in_qsize 15, out_qsize 0\n",
      "2022-04-06 22:18:11,141 : INFO : EPOCH 30 - PROGRESS: at 23.31% examples, 945482 words/s, in_qsize 14, out_qsize 1\n",
      "2022-04-06 22:18:12,147 : INFO : EPOCH 30 - PROGRESS: at 35.75% examples, 969932 words/s, in_qsize 15, out_qsize 0\n",
      "2022-04-06 22:18:13,161 : INFO : EPOCH 30 - PROGRESS: at 47.86% examples, 973321 words/s, in_qsize 15, out_qsize 0\n",
      "2022-04-06 22:18:14,164 : INFO : EPOCH 30 - PROGRESS: at 59.98% examples, 977701 words/s, in_qsize 15, out_qsize 0\n",
      "2022-04-06 22:18:15,171 : INFO : EPOCH 30 - PROGRESS: at 72.10% examples, 979726 words/s, in_qsize 15, out_qsize 0\n",
      "2022-04-06 22:18:16,181 : INFO : EPOCH 30 - PROGRESS: at 84.16% examples, 979716 words/s, in_qsize 16, out_qsize 2\n",
      "2022-04-06 22:18:17,209 : INFO : EPOCH 30 - PROGRESS: at 96.63% examples, 981753 words/s, in_qsize 15, out_qsize 1\n",
      "2022-04-06 22:18:17,651 : INFO : worker thread finished; awaiting finish of 7 more threads\n",
      "2022-04-06 22:18:17,657 : INFO : worker thread finished; awaiting finish of 6 more threads\n",
      "2022-04-06 22:18:17,663 : INFO : worker thread finished; awaiting finish of 5 more threads\n",
      "2022-04-06 22:18:17,696 : INFO : worker thread finished; awaiting finish of 4 more threads\n",
      "2022-04-06 22:18:17,700 : INFO : worker thread finished; awaiting finish of 3 more threads\n",
      "2022-04-06 22:18:17,705 : INFO : worker thread finished; awaiting finish of 2 more threads\n",
      "2022-04-06 22:18:17,711 : INFO : worker thread finished; awaiting finish of 1 more threads\n",
      "2022-04-06 22:18:17,727 : INFO : worker thread finished; awaiting finish of 0 more threads\n",
      "2022-04-06 22:18:17,727 : INFO : EPOCH - 30 : training on 9227204 raw words (8221608 effective words) took 8.6s, 954825 effective words/s\n",
      "2022-04-06 22:18:18,751 : INFO : EPOCH 31 - PROGRESS: at 11.40% examples, 934359 words/s, in_qsize 15, out_qsize 0\n",
      "2022-04-06 22:18:19,751 : INFO : EPOCH 31 - PROGRESS: at 22.98% examples, 943456 words/s, in_qsize 14, out_qsize 1\n",
      "2022-04-06 22:18:20,779 : INFO : EPOCH 31 - PROGRESS: at 35.32% examples, 958525 words/s, in_qsize 15, out_qsize 0\n",
      "2022-04-06 22:18:21,783 : INFO : EPOCH 31 - PROGRESS: at 47.21% examples, 962880 words/s, in_qsize 15, out_qsize 0\n",
      "2022-04-06 22:18:22,789 : INFO : EPOCH 31 - PROGRESS: at 58.36% examples, 952829 words/s, in_qsize 14, out_qsize 1\n",
      "2022-04-06 22:18:23,797 : INFO : EPOCH 31 - PROGRESS: at 69.94% examples, 951593 words/s, in_qsize 15, out_qsize 0\n",
      "2022-04-06 22:18:24,813 : INFO : EPOCH 31 - PROGRESS: at 81.99% examples, 954657 words/s, in_qsize 15, out_qsize 0\n",
      "2022-04-06 22:18:25,813 : INFO : EPOCH 31 - PROGRESS: at 94.14% examples, 959759 words/s, in_qsize 15, out_qsize 0\n",
      "2022-04-06 22:18:26,234 : INFO : worker thread finished; awaiting finish of 7 more threads\n",
      "2022-04-06 22:18:26,239 : INFO : worker thread finished; awaiting finish of 6 more threads\n",
      "2022-04-06 22:18:26,245 : INFO : worker thread finished; awaiting finish of 5 more threads\n",
      "2022-04-06 22:18:26,250 : INFO : worker thread finished; awaiting finish of 4 more threads\n",
      "2022-04-06 22:18:26,255 : INFO : worker thread finished; awaiting finish of 3 more threads\n",
      "2022-04-06 22:18:26,273 : INFO : worker thread finished; awaiting finish of 2 more threads\n",
      "2022-04-06 22:18:26,276 : INFO : worker thread finished; awaiting finish of 1 more threads\n",
      "2022-04-06 22:18:26,279 : INFO : worker thread finished; awaiting finish of 0 more threads\n",
      "2022-04-06 22:18:26,279 : INFO : EPOCH - 31 : training on 9227204 raw words (8222332 effective words) took 8.5s, 963902 effective words/s\n",
      "2022-04-06 22:18:27,308 : INFO : EPOCH 32 - PROGRESS: at 11.73% examples, 957775 words/s, in_qsize 15, out_qsize 0\n",
      "2022-04-06 22:18:28,311 : INFO : EPOCH 32 - PROGRESS: at 24.06% examples, 984680 words/s, in_qsize 4, out_qsize 0\n",
      "2022-04-06 22:18:29,311 : INFO : EPOCH 32 - PROGRESS: at 34.02% examples, 929822 words/s, in_qsize 15, out_qsize 0\n",
      "2022-04-06 22:18:30,325 : INFO : EPOCH 32 - PROGRESS: at 43.85% examples, 896729 words/s, in_qsize 15, out_qsize 0\n",
      "2022-04-06 22:18:31,327 : INFO : EPOCH 32 - PROGRESS: at 55.53% examples, 909598 words/s, in_qsize 14, out_qsize 1\n",
      "2022-04-06 22:18:32,331 : INFO : EPOCH 32 - PROGRESS: at 66.91% examples, 913235 words/s, in_qsize 15, out_qsize 0\n",
      "2022-04-06 22:18:33,350 : INFO : EPOCH 32 - PROGRESS: at 79.05% examples, 922645 words/s, in_qsize 15, out_qsize 0\n",
      "2022-04-06 22:18:34,356 : INFO : EPOCH 32 - PROGRESS: at 90.98% examples, 929009 words/s, in_qsize 15, out_qsize 0\n",
      "2022-04-06 22:18:35,051 : INFO : worker thread finished; awaiting finish of 7 more threads\n",
      "2022-04-06 22:18:35,056 : INFO : worker thread finished; awaiting finish of 6 more threads\n",
      "2022-04-06 22:18:35,058 : INFO : worker thread finished; awaiting finish of 5 more threads\n",
      "2022-04-06 22:18:35,060 : INFO : worker thread finished; awaiting finish of 4 more threads\n",
      "2022-04-06 22:18:35,066 : INFO : worker thread finished; awaiting finish of 3 more threads\n",
      "2022-04-06 22:18:35,074 : INFO : worker thread finished; awaiting finish of 2 more threads\n",
      "2022-04-06 22:18:35,077 : INFO : worker thread finished; awaiting finish of 1 more threads\n",
      "2022-04-06 22:18:35,082 : INFO : worker thread finished; awaiting finish of 0 more threads\n",
      "2022-04-06 22:18:35,082 : INFO : EPOCH - 32 : training on 9227204 raw words (8221911 effective words) took 8.8s, 936478 effective words/s\n",
      "2022-04-06 22:18:35,083 : INFO : Word2Vec lifecycle event {'msg': 'training on 295270528 raw words (263120601 effective words) took 280.8s, 936893 effective words/s', 'datetime': '2022-04-06T22:18:35.083807', 'gensim': '4.1.2', 'python': '3.10.4 (tags/v3.10.4:9d38120, Mar 23 2022, 23:13:41) [MSC v.1929 64 bit (AMD64)]', 'platform': 'Windows-10-10.0.19043-SP0', 'event': 'train'}\n"
     ]
    },
    {
     "name": "stdout",
     "output_type": "stream",
     "text": [
      "CPU times: total: 14min 50s\n",
      "Wall time: 4min 40s\n"
     ]
    },
    {
     "data": {
      "text/plain": [
       "(263120601, 295270528)"
      ]
     },
     "execution_count": 18,
     "metadata": {},
     "output_type": "execute_result"
    }
   ],
   "source": [
    "%%time\n",
    "w2v_model.train(documents, total_examples=len(documents), epochs=W2V_EPOCH)"
   ]
  },
  {
   "cell_type": "code",
   "execution_count": 20,
   "metadata": {},
   "outputs": [
    {
     "data": {
      "text/plain": [
       "[('luv', 0.5794763565063477),\n",
       " ('loves', 0.5458441972732544),\n",
       " ('loved', 0.5345573425292969),\n",
       " ('adore', 0.529651939868927),\n",
       " ('amazing', 0.5056285262107849),\n",
       " ('looove', 0.48844581842422485),\n",
       " ('awesome', 0.46642574667930603),\n",
       " ('loveee', 0.4464726150035858),\n",
       " ('lovee', 0.4418674111366272),\n",
       " ('miss', 0.4331274926662445)]"
      ]
     },
     "execution_count": 20,
     "metadata": {},
     "output_type": "execute_result"
    }
   ],
   "source": [
    "w2v_model.wv.most_similar(\"love\")"
   ]
  },
  {
   "cell_type": "code",
   "execution_count": 21,
   "metadata": {},
   "outputs": [
    {
     "name": "stdout",
     "output_type": "stream",
     "text": [
      "Total words 290419\n",
      "CPU times: total: 16.4 s\n",
      "Wall time: 18 s\n"
     ]
    }
   ],
   "source": [
    "%%time\n",
    "tokenizer = Tokenizer()\n",
    "tokenizer.fit_on_texts(df_train.text)\n",
    "\n",
    "vocab_size = len(tokenizer.word_index) + 1\n",
    "print(\"Total words\", vocab_size)"
   ]
  },
  {
   "cell_type": "code",
   "execution_count": 22,
   "metadata": {},
   "outputs": [
    {
     "name": "stdout",
     "output_type": "stream",
     "text": [
      "CPU times: total: 20.8 s\n",
      "Wall time: 23.1 s\n"
     ]
    }
   ],
   "source": [
    "%%time\n",
    "x_train = pad_sequences(tokenizer.texts_to_sequences(df_train.text), maxlen=SEQUENCE_LENGTH)\n",
    "x_test = pad_sequences(tokenizer.texts_to_sequences(df_test.text), maxlen=SEQUENCE_LENGTH)"
   ]
  },
  {
   "cell_type": "code",
   "execution_count": 23,
   "metadata": {},
   "outputs": [
    {
     "data": {
      "text/plain": [
       "['POSITIVE', 'NEGATIVE', 'NEUTRAL']"
      ]
     },
     "execution_count": 23,
     "metadata": {},
     "output_type": "execute_result"
    }
   ],
   "source": [
    "labels = df_train.target.unique().tolist()\n",
    "labels.append(NEUTRAL)\n",
    "labels"
   ]
  },
  {
   "cell_type": "code",
   "execution_count": 24,
   "metadata": {},
   "outputs": [
    {
     "name": "stdout",
     "output_type": "stream",
     "text": [
      "y_train (1280000, 1)\n",
      "y_test (320000, 1)\n"
     ]
    }
   ],
   "source": [
    "encoder = LabelEncoder()\n",
    "encoder.fit(df_train.target.tolist())\n",
    "\n",
    "y_train = encoder.transform(df_train.target.tolist())\n",
    "y_test = encoder.transform(df_test.target.tolist())\n",
    "\n",
    "y_train = y_train.reshape(-1,1)\n",
    "y_test = y_test.reshape(-1,1)\n",
    "\n",
    "print(\"y_train\",y_train.shape)\n",
    "print(\"y_test\",y_test.shape)"
   ]
  },
  {
   "cell_type": "code",
   "execution_count": 25,
   "metadata": {},
   "outputs": [
    {
     "name": "stdout",
     "output_type": "stream",
     "text": [
      "x_train (1280000, 300)\n",
      "y_train (1280000, 1)\n",
      "\n",
      "x_test (320000, 300)\n",
      "y_test (320000, 1)\n"
     ]
    }
   ],
   "source": [
    "print(\"x_train\", x_train.shape)\n",
    "print(\"y_train\", y_train.shape)\n",
    "print()\n",
    "print(\"x_test\", x_test.shape)\n",
    "print(\"y_test\", y_test.shape)"
   ]
  },
  {
   "cell_type": "code",
   "execution_count": 26,
   "metadata": {},
   "outputs": [
    {
     "name": "stdout",
     "output_type": "stream",
     "text": [
      "(290419, 300)\n"
     ]
    }
   ],
   "source": [
    "embedding_matrix = np.zeros((vocab_size, W2V_SIZE))\n",
    "for word, i in tokenizer.word_index.items():\n",
    "  if word in w2v_model.wv:\n",
    "    embedding_matrix[i] = w2v_model.wv[word]\n",
    "print(embedding_matrix.shape)"
   ]
  },
  {
   "cell_type": "code",
   "execution_count": 27,
   "metadata": {},
   "outputs": [],
   "source": [
    "embedding_layer = Embedding(vocab_size, W2V_SIZE, weights=[embedding_matrix], input_length=SEQUENCE_LENGTH, trainable=False)"
   ]
  },
  {
   "cell_type": "code",
   "execution_count": 28,
   "metadata": {},
   "outputs": [
    {
     "name": "stdout",
     "output_type": "stream",
     "text": [
      "WARNING:tensorflow:Layer lstm will not use cuDNN kernels since it doesn't meet the criteria. It will use a generic GPU kernel as fallback when running on GPU.\n"
     ]
    },
    {
     "name": "stderr",
     "output_type": "stream",
     "text": [
      "2022-04-06 22:24:30,168 : WARNING : Layer lstm will not use cuDNN kernels since it doesn't meet the criteria. It will use a generic GPU kernel as fallback when running on GPU.\n"
     ]
    },
    {
     "name": "stdout",
     "output_type": "stream",
     "text": [
      "Model: \"sequential\"\n",
      "_________________________________________________________________\n",
      " Layer (type)                Output Shape              Param #   \n",
      "=================================================================\n",
      " embedding (Embedding)       (None, 300, 300)          87125700  \n",
      "                                                                 \n",
      " dropout (Dropout)           (None, 300, 300)          0         \n",
      "                                                                 \n",
      " lstm (LSTM)                 (None, 100)               160400    \n",
      "                                                                 \n",
      " dense (Dense)               (None, 1)                 101       \n",
      "                                                                 \n",
      "=================================================================\n",
      "Total params: 87,286,201\n",
      "Trainable params: 160,501\n",
      "Non-trainable params: 87,125,700\n",
      "_________________________________________________________________\n"
     ]
    }
   ],
   "source": [
    "model = Sequential()\n",
    "model.add(embedding_layer)\n",
    "model.add(Dropout(0.5))\n",
    "model.add(LSTM(100, dropout=0.2, recurrent_dropout=0.2))\n",
    "model.add(Dense(1, activation='sigmoid'))\n",
    "\n",
    "model.summary()"
   ]
  },
  {
   "cell_type": "code",
   "execution_count": 29,
   "metadata": {},
   "outputs": [],
   "source": [
    "model.compile(loss='binary_crossentropy',\n",
    "              optimizer=\"adam\",\n",
    "              metrics=['accuracy'])"
   ]
  },
  {
   "cell_type": "code",
   "execution_count": 30,
   "metadata": {},
   "outputs": [],
   "source": [
    "callbacks = [ ReduceLROnPlateau(monitor='val_loss', patience=5, cooldown=0),\n",
    "              EarlyStopping(monitor='val_acc', min_delta=1e-4, patience=5)]"
   ]
  },
  {
   "cell_type": "code",
   "execution_count": 45,
   "metadata": {},
   "outputs": [],
   "source": [
    "import tensorflow as tf"
   ]
  },
  {
   "cell_type": "code",
   "execution_count": 38,
   "metadata": {},
   "outputs": [
    {
     "name": "stdout",
     "output_type": "stream",
     "text": [
      "Num GPUs Available:  1\n",
      "True\n"
     ]
    }
   ],
   "source": [
    "print(\"Num GPUs Available: \", len(tf.config.list_physical_devices('GPU')))\n",
    "print(tf.test.is_built_with_cuda())"
   ]
  },
  {
   "cell_type": "code",
   "execution_count": 55,
   "metadata": {},
   "outputs": [
    {
     "name": "stdout",
     "output_type": "stream",
     "text": [
      "Epoch 1/8\n",
      "2250/2250 [==============================] - ETA: 0s - loss: 0.5082 - accuracy: 0.7482WARNING:tensorflow:Early stopping conditioned on metric `val_acc` which is not available. Available metrics are: loss,accuracy,val_loss,val_accuracy,lr\n"
     ]
    },
    {
     "name": "stderr",
     "output_type": "stream",
     "text": [
      "2022-04-07 01:00:19,881 : WARNING : Early stopping conditioned on metric `val_acc` which is not available. Available metrics are: loss,accuracy,val_loss,val_accuracy,lr\n"
     ]
    },
    {
     "name": "stdout",
     "output_type": "stream",
     "text": [
      "2250/2250 [==============================] - 7089s 3s/step - loss: 0.5082 - accuracy: 0.7482 - val_loss: 0.4634 - val_accuracy: 0.7794 - lr: 0.0010\n",
      "Epoch 2/8\n",
      "2250/2250 [==============================] - ETA: 0s - loss: 0.4815 - accuracy: 0.7655WARNING:tensorflow:Early stopping conditioned on metric `val_acc` which is not available. Available metrics are: loss,accuracy,val_loss,val_accuracy,lr\n"
     ]
    },
    {
     "name": "stderr",
     "output_type": "stream",
     "text": [
      "2022-04-07 02:58:26,916 : WARNING : Early stopping conditioned on metric `val_acc` which is not available. Available metrics are: loss,accuracy,val_loss,val_accuracy,lr\n"
     ]
    },
    {
     "name": "stdout",
     "output_type": "stream",
     "text": [
      "2250/2250 [==============================] - 7087s 3s/step - loss: 0.4815 - accuracy: 0.7655 - val_loss: 0.4558 - val_accuracy: 0.7838 - lr: 0.0010\n",
      "Epoch 3/8\n",
      "2250/2250 [==============================] - ETA: 0s - loss: 0.4744 - accuracy: 0.7698WARNING:tensorflow:Early stopping conditioned on metric `val_acc` which is not available. Available metrics are: loss,accuracy,val_loss,val_accuracy,lr\n"
     ]
    },
    {
     "name": "stderr",
     "output_type": "stream",
     "text": [
      "2022-04-07 04:56:18,286 : WARNING : Early stopping conditioned on metric `val_acc` which is not available. Available metrics are: loss,accuracy,val_loss,val_accuracy,lr\n"
     ]
    },
    {
     "name": "stdout",
     "output_type": "stream",
     "text": [
      "2250/2250 [==============================] - 7071s 3s/step - loss: 0.4744 - accuracy: 0.7698 - val_loss: 0.4546 - val_accuracy: 0.7852 - lr: 0.0010\n",
      "Epoch 4/8\n",
      "2250/2250 [==============================] - ETA: 0s - loss: 0.4706 - accuracy: 0.7722WARNING:tensorflow:Early stopping conditioned on metric `val_acc` which is not available. Available metrics are: loss,accuracy,val_loss,val_accuracy,lr\n"
     ]
    },
    {
     "name": "stderr",
     "output_type": "stream",
     "text": [
      "2022-04-07 06:54:09,486 : WARNING : Early stopping conditioned on metric `val_acc` which is not available. Available metrics are: loss,accuracy,val_loss,val_accuracy,lr\n"
     ]
    },
    {
     "name": "stdout",
     "output_type": "stream",
     "text": [
      "2250/2250 [==============================] - 7071s 3s/step - loss: 0.4706 - accuracy: 0.7722 - val_loss: 0.4529 - val_accuracy: 0.7871 - lr: 0.0010\n",
      "Epoch 5/8\n",
      "2250/2250 [==============================] - ETA: 0s - loss: 0.4674 - accuracy: 0.7744WARNING:tensorflow:Early stopping conditioned on metric `val_acc` which is not available. Available metrics are: loss,accuracy,val_loss,val_accuracy,lr\n"
     ]
    },
    {
     "name": "stderr",
     "output_type": "stream",
     "text": [
      "2022-04-07 08:51:27,353 : WARNING : Early stopping conditioned on metric `val_acc` which is not available. Available metrics are: loss,accuracy,val_loss,val_accuracy,lr\n"
     ]
    },
    {
     "name": "stdout",
     "output_type": "stream",
     "text": [
      "2250/2250 [==============================] - 7038s 3s/step - loss: 0.4674 - accuracy: 0.7744 - val_loss: 0.4493 - val_accuracy: 0.7885 - lr: 0.0010\n",
      "Epoch 6/8\n",
      "2250/2250 [==============================] - ETA: 0s - loss: 0.4661 - accuracy: 0.7756WARNING:tensorflow:Early stopping conditioned on metric `val_acc` which is not available. Available metrics are: loss,accuracy,val_loss,val_accuracy,lr\n"
     ]
    },
    {
     "name": "stderr",
     "output_type": "stream",
     "text": [
      "2022-04-07 10:48:18,714 : WARNING : Early stopping conditioned on metric `val_acc` which is not available. Available metrics are: loss,accuracy,val_loss,val_accuracy,lr\n"
     ]
    },
    {
     "name": "stdout",
     "output_type": "stream",
     "text": [
      "2250/2250 [==============================] - 7011s 3s/step - loss: 0.4661 - accuracy: 0.7756 - val_loss: 0.4505 - val_accuracy: 0.7877 - lr: 0.0010\n",
      "Epoch 7/8\n",
      "2250/2250 [==============================] - ETA: 0s - loss: 0.4644 - accuracy: 0.7763WARNING:tensorflow:Early stopping conditioned on metric `val_acc` which is not available. Available metrics are: loss,accuracy,val_loss,val_accuracy,lr\n"
     ]
    },
    {
     "name": "stderr",
     "output_type": "stream",
     "text": [
      "2022-04-07 12:44:38,240 : WARNING : Early stopping conditioned on metric `val_acc` which is not available. Available metrics are: loss,accuracy,val_loss,val_accuracy,lr\n"
     ]
    },
    {
     "name": "stdout",
     "output_type": "stream",
     "text": [
      "2250/2250 [==============================] - 6980s 3s/step - loss: 0.4644 - accuracy: 0.7763 - val_loss: 0.4491 - val_accuracy: 0.7898 - lr: 0.0010\n",
      "Epoch 8/8\n",
      "2250/2250 [==============================] - ETA: 0s - loss: 0.4638 - accuracy: 0.7770WARNING:tensorflow:Early stopping conditioned on metric `val_acc` which is not available. Available metrics are: loss,accuracy,val_loss,val_accuracy,lr\n"
     ]
    },
    {
     "name": "stderr",
     "output_type": "stream",
     "text": [
      "2022-04-07 14:40:55,150 : WARNING : Early stopping conditioned on metric `val_acc` which is not available. Available metrics are: loss,accuracy,val_loss,val_accuracy,lr\n"
     ]
    },
    {
     "name": "stdout",
     "output_type": "stream",
     "text": [
      "2250/2250 [==============================] - 6977s 3s/step - loss: 0.4638 - accuracy: 0.7770 - val_loss: 0.4487 - val_accuracy: 0.7889 - lr: 0.0010\n",
      "CPU times: total: 1d 48min 47s\n",
      "Wall time: 15h 38min 44s\n"
     ]
    }
   ],
   "source": [
    "%%time\n",
    "history = model.fit(x_train, y_train,\n",
    "                    batch_size=BATCH_SIZE,\n",
    "                    epochs=EPOCHS,\n",
    "                    validation_split=0.1,\n",
    "                    verbose=1,\n",
    "                    callbacks=callbacks)"
   ]
  },
  {
   "cell_type": "code",
   "execution_count": 56,
   "metadata": {},
   "outputs": [
    {
     "name": "stdout",
     "output_type": "stream",
     "text": [
      "625/625 [==============================] - 133s 212ms/step - loss: 0.4473 - accuracy: 0.7894\n",
      "\n",
      "ACCURACY: 0.7894499897956848\n",
      "LOSS: 0.4473389685153961\n",
      "CPU times: total: 2min 1s\n",
      "Wall time: 2min 13s\n"
     ]
    }
   ],
   "source": [
    "%%time\n",
    "score = model.evaluate(x_test, y_test, batch_size=BATCH_SIZE)\n",
    "print()\n",
    "print(\"ACCURACY:\",score[1])\n",
    "print(\"LOSS:\",score[0])"
   ]
  },
  {
   "cell_type": "code",
   "execution_count": 59,
   "metadata": {},
   "outputs": [
    {
     "data": {
      "image/png": "[encoded data removed]",
      "text/plain": [
       "<Figure size 432x288 with 1 Axes>"
      ]
     },
     "metadata": {
      "needs_background": "light"
     },
     "output_type": "display_data"
    },
    {
     "data": {
      "image/png": "[encoded data removed]",
      "text/plain": [
       "<Figure size 432x288 with 1 Axes>"
      ]
     },
     "metadata": {
      "needs_background": "light"
     },
     "output_type": "display_data"
    }
   ],
   "source": [
    "acc = history.history['accuracy']\n",
    "val_acc = history.history['val_accuracy']\n",
    "loss = history.history['loss']\n",
    "val_loss = history.history['val_loss']\n",
    " \n",
    "epochs = range(len(acc))\n",
    " \n",
    "plt.plot(epochs, acc, 'b', label='Training acc')\n",
    "plt.plot(epochs, val_acc, 'r', label='Validation acc')\n",
    "plt.title('Training and validation accuracy')\n",
    "plt.legend()\n",
    " \n",
    "plt.figure()\n",
    " \n",
    "plt.plot(epochs, loss, 'b', label='Training loss')\n",
    "plt.plot(epochs, val_loss, 'r', label='Validation loss')\n",
    "plt.title('Training and validation loss')\n",
    "plt.legend()\n",
    " \n",
    "plt.show()"
   ]
  },
  {
   "cell_type": "code",
   "execution_count": 60,
   "metadata": {},
   "outputs": [],
   "source": [
    "def decode_sentiment(score, include_neutral=True):\n",
    "    if include_neutral:        \n",
    "        label = NEUTRAL\n",
    "        if score <= SENTIMENT_THRESHOLDS[0]:\n",
    "            label = NEGATIVE\n",
    "        elif score >= SENTIMENT_THRESHOLDS[1]:\n",
    "            label = POSITIVE\n",
    "\n",
    "        return label\n",
    "    else:\n",
    "        return NEGATIVE if score < 0.5 else POSITIVE"
   ]
  },
  {
   "cell_type": "code",
   "execution_count": 61,
   "metadata": {},
   "outputs": [],
   "source": [
    "def predict(text, include_neutral=True):\n",
    "    start_at = time.time()\n",
    "    # Tokenize text\n",
    "    x_test = pad_sequences(tokenizer.texts_to_sequences([text]), maxlen=SEQUENCE_LENGTH)\n",
    "    # Predict\n",
    "    score = model.predict([x_test])[0]\n",
    "    # Decode sentiment\n",
    "    label = decode_sentiment(score, include_neutral=include_neutral)\n",
    "\n",
    "    return {\"label\": label, \"score\": float(score),\n",
    "       \"elapsed_time\": time.time()-start_at}  "
   ]
  },
  {
   "cell_type": "code",
   "execution_count": 62,
   "metadata": {},
   "outputs": [
    {
     "data": {
      "text/plain": [
       "{'label': 'POSITIVE',\n",
       " 'score': 0.9721326231956482,\n",
       " 'elapsed_time': 1.329482078552246}"
      ]
     },
     "execution_count": 62,
     "metadata": {},
     "output_type": "execute_result"
    }
   ],
   "source": [
    "predict(\"I love the music\")"
   ]
  },
  {
   "cell_type": "code",
   "execution_count": 65,
   "metadata": {},
   "outputs": [
    {
     "name": "stdout",
     "output_type": "stream",
     "text": [
      "611/611 [==============================] - 139s 226ms/step\n",
      "CPU times: total: 1min 52s\n",
      "Wall time: 2min 19s\n"
     ]
    }
   ],
   "source": [
    "%%time\n",
    "y_pred_1d = []\n",
    "y_test_1d = list(df_test.target)\n",
    "scores = model.predict(x_test, verbose=1, batch_size=524)\n",
    "y_pred_1d = [decode_sentiment(score, include_neutral=False) for score in scores]"
   ]
  },
  {
   "cell_type": "code",
   "execution_count": 66,
   "metadata": {},
   "outputs": [],
   "source": [
    "def plot_confusion_matrix(cm, classes,\n",
    "                          title='Confusion matrix',\n",
    "                          cmap=plt.cm.Blues):\n",
    "    \"\"\"\n",
    "    This function prints and plots the confusion matrix.\n",
    "    Normalization can be applied by setting `normalize=True`.\n",
    "    \"\"\"\n",
    "\n",
    "    cm = cm.astype('float') / cm.sum(axis=1)[:, np.newaxis]\n",
    "\n",
    "    plt.imshow(cm, interpolation='nearest', cmap=cmap)\n",
    "    plt.title(title, fontsize=30)\n",
    "    plt.colorbar()\n",
    "    tick_marks = np.arange(len(classes))\n",
    "    plt.xticks(tick_marks, classes, rotation=90, fontsize=22)\n",
    "    plt.yticks(tick_marks, classes, fontsize=22)\n",
    "\n",
    "    fmt = '.2f'\n",
    "    thresh = cm.max() / 2.\n",
    "    for i, j in itertools.product(range(cm.shape[0]), range(cm.shape[1])):\n",
    "        plt.text(j, i, format(cm[i, j], fmt),\n",
    "                 horizontalalignment=\"center\",\n",
    "                 color=\"white\" if cm[i, j] > thresh else \"black\")\n",
    "\n",
    "    plt.ylabel('True label', fontsize=25)\n",
    "    plt.xlabel('Predicted label', fontsize=25)"
   ]
  },
  {
   "cell_type": "code",
   "execution_count": 67,
   "metadata": {},
   "outputs": [
    {
     "data": {
      "image/png": "[encoded data removed]",
      "text/plain": [
       "<Figure size 864x864 with 2 Axes>"
      ]
     },
     "metadata": {
      "needs_background": "light"
     },
     "output_type": "display_data"
    },
    {
     "name": "stdout",
     "output_type": "stream",
     "text": [
      "CPU times: total: 1.22 s\n",
      "Wall time: 1.42 s\n"
     ]
    }
   ],
   "source": [
    "%%time\n",
    "\n",
    "cnf_matrix = confusion_matrix(y_test_1d, y_pred_1d)\n",
    "plt.figure(figsize=(12,12))\n",
    "plot_confusion_matrix(cnf_matrix, classes=df_train.target.unique(), title=\"Confusion matrix\")\n",
    "plt.show()"
   ]
  },
  {
   "cell_type": "code",
   "execution_count": 68,
   "metadata": {},
   "outputs": [
    {
     "name": "stdout",
     "output_type": "stream",
     "text": [
      "              precision    recall  f1-score   support\n",
      "\n",
      "    NEGATIVE       0.78      0.81      0.79    159494\n",
      "    POSITIVE       0.80      0.77      0.79    160506\n",
      "\n",
      "    accuracy                           0.79    320000\n",
      "   macro avg       0.79      0.79      0.79    320000\n",
      "weighted avg       0.79      0.79      0.79    320000\n",
      "\n"
     ]
    }
   ],
   "source": [
    "print(classification_report(y_test_1d, y_pred_1d))"
   ]
  },
  {
   "cell_type": "code",
   "execution_count": 69,
   "metadata": {},
   "outputs": [
    {
     "data": {
      "text/plain": [
       "0.78945"
      ]
     },
     "execution_count": 69,
     "metadata": {},
     "output_type": "execute_result"
    }
   ],
   "source": [
    "accuracy_score(y_test_1d, y_pred_1d)"
   ]
  },
  {
   "cell_type": "code",
   "execution_count": 70,
   "metadata": {},
   "outputs": [
    {
     "name": "stderr",
     "output_type": "stream",
     "text": [
      "2022-04-07 15:00:40,013 : INFO : Word2Vec lifecycle event {'fname_or_handle': 'model.w2v', 'separately': 'None', 'sep_limit': 10485760, 'ignore': frozenset(), 'datetime': '2022-04-07T15:00:40.013630', 'gensim': '4.1.2', 'python': '3.10.4 (tags/v3.10.4:9d38120, Mar 23 2022, 23:13:41) [MSC v.1929 64 bit (AMD64)]', 'platform': 'Windows-10-10.0.19043-SP0', 'event': 'saving'}\n",
      "2022-04-07 15:00:40,016 : INFO : not storing attribute cum_table\n",
      "2022-04-07 15:00:40,793 : INFO : saved model.w2v\n"
     ]
    }
   ],
   "source": [
    "model.save(KERAS_MODEL)\n",
    "w2v_model.save(WORD2VEC_MODEL)\n",
    "pickle.dump(tokenizer, open(TOKENIZER_MODEL, \"wb\"), protocol=0)\n",
    "pickle.dump(encoder, open(ENCODER_MODEL, \"wb\"), protocol=0)"
   ]
  }
 ],
 "metadata": {
  "interpreter": {
   "hash": "618b48ff4305b518fa592c0ad58aa2de4689e1d9d86effb4de4aae6532bb3707"
  },
  "kernelspec": {
   "display_name": "Python 3.8.3 ('work_env': venv)",
   "language": "python",
   "name": "python3"
  },
  "language_info": {
   "codemirror_mode": {
    "name": "ipython",
    "version": 3
   },
   "file_extension": ".py",
   "mimetype": "text/x-python",
   "name": "python",
   "nbconvert_exporter": "python",
   "pygments_lexer": "ipython3",
   "version": "3.10.4"
  },
  "orig_nbformat": 4
 },
 "nbformat": 4,
 "nbformat_minor": 2
}
